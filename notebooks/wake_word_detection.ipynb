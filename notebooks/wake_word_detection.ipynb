{
  "nbformat": 4,
  "nbformat_minor": 0,
  "metadata": {
    "colab": {
      "name": "wake_word_scratch.ipynb",
      "provenance": [],
      "collapsed_sections": [],
      "toc_visible": true,
      "authorship_tag": "ABX9TyNNSQFl0NqiiUb/zS2OfqR+",
      "include_colab_link": true
    },
    "kernelspec": {
      "name": "python3",
      "display_name": "Python 3"
    },
    "language_info": {
      "name": "python"
    }
  },
  "cells": [
    {
      "cell_type": "markdown",
      "metadata": {
        "id": "view-in-github",
        "colab_type": "text"
      },
      "source": [
        "<a href=\"https://colab.research.google.com/github/rajashekar/colab/blob/main/wake_word_scratch.ipynb\" target=\"_parent\"><img src=\"https://colab.research.google.com/assets/colab-badge.svg\" alt=\"Open In Colab\"/></a>"
      ]
    },
    {
      "cell_type": "code",
      "metadata": {
        "colab": {
          "base_uri": "https://localhost:8080/"
        },
        "id": "bdJWtLH3yEsF",
        "outputId": "b895062b-4d8c-41ef-b7e9-92d594ef2bda"
      },
      "source": [
        "# install required modules\n",
        "!pip install librosa textgrid torchsummary ffmpeg-python pocketsphinx fastprogress"
      ],
      "execution_count": null,
      "outputs": [
        {
          "output_type": "stream",
          "text": [
            "Requirement already satisfied: librosa in c:\\users\\rajas\\anaconda3\\lib\\site-packages (0.8.1)\n",
            "Requirement already satisfied: textgrid in c:\\users\\rajas\\anaconda3\\lib\\site-packages (1.5)\n",
            "Requirement already satisfied: torchsummary in c:\\users\\rajas\\anaconda3\\lib\\site-packages (1.5.1)\n",
            "Requirement already satisfied: ffmpeg-python in c:\\users\\rajas\\anaconda3\\lib\\site-packages (0.2.0)\n",
            "Requirement already satisfied: pocketsphinx in c:\\users\\rajas\\anaconda3\\lib\\site-packages (0.1.15)\n",
            "Collecting fastprogress\n",
            "  Downloading fastprogress-1.0.0-py3-none-any.whl (12 kB)\n",
            "Requirement already satisfied: soundfile>=0.10.2 in c:\\users\\rajas\\anaconda3\\lib\\site-packages (from librosa) (0.10.3.post1)\n",
            "Requirement already satisfied: joblib>=0.14 in c:\\users\\rajas\\anaconda3\\lib\\site-packages (from librosa) (1.0.1)\n",
            "Requirement already satisfied: numpy>=1.15.0 in c:\\users\\rajas\\anaconda3\\lib\\site-packages (from librosa) (1.20.3)\n",
            "Requirement already satisfied: scipy>=1.0.0 in c:\\users\\rajas\\anaconda3\\lib\\site-packages (from librosa) (1.6.2)\n",
            "Requirement already satisfied: pooch>=1.0 in c:\\users\\rajas\\anaconda3\\lib\\site-packages (from librosa) (1.4.0)\n",
            "Requirement already satisfied: numba>=0.43.0 in c:\\users\\rajas\\anaconda3\\lib\\site-packages (from librosa) (0.53.1)\n",
            "Requirement already satisfied: packaging>=20.0 in c:\\users\\rajas\\anaconda3\\lib\\site-packages (from librosa) (21.0)\n",
            "Requirement already satisfied: audioread>=2.0.0 in c:\\users\\rajas\\anaconda3\\lib\\site-packages (from librosa) (2.1.9)\n",
            "Requirement already satisfied: resampy>=0.2.2 in c:\\users\\rajas\\anaconda3\\lib\\site-packages (from librosa) (0.2.2)\n",
            "Requirement already satisfied: decorator>=3.0.0 in c:\\users\\rajas\\anaconda3\\lib\\site-packages (from librosa) (5.0.9)\n",
            "Requirement already satisfied: scikit-learn!=0.19.0,>=0.14.0 in c:\\users\\rajas\\anaconda3\\lib\\site-packages (from librosa) (0.24.2)\n",
            "Requirement already satisfied: llvmlite<0.37,>=0.36.0rc1 in c:\\users\\rajas\\anaconda3\\lib\\site-packages (from numba>=0.43.0->librosa) (0.36.0)\n",
            "Requirement already satisfied: setuptools in c:\\users\\rajas\\anaconda3\\lib\\site-packages (from numba>=0.43.0->librosa) (52.0.0.post20210125)\n",
            "Requirement already satisfied: pyparsing>=2.0.2 in c:\\users\\rajas\\anaconda3\\lib\\site-packages (from packaging>=20.0->librosa) (2.4.7)\n",
            "Requirement already satisfied: requests in c:\\users\\rajas\\appdata\\roaming\\python\\python37\\site-packages (from pooch>=1.0->librosa) (2.21.0)\n",
            "Requirement already satisfied: appdirs in c:\\users\\rajas\\anaconda3\\lib\\site-packages (from pooch>=1.0->librosa) (1.4.4)\n",
            "Requirement already satisfied: six>=1.3 in c:\\users\\rajas\\anaconda3\\lib\\site-packages (from resampy>=0.2.2->librosa) (1.16.0)\n",
            "Requirement already satisfied: threadpoolctl>=2.0.0 in c:\\users\\rajas\\anaconda3\\lib\\site-packages (from scikit-learn!=0.19.0,>=0.14.0->librosa) (2.2.0)\n",
            "Requirement already satisfied: cffi>=1.0 in c:\\users\\rajas\\anaconda3\\lib\\site-packages (from soundfile>=0.10.2->librosa) (1.14.6)\n",
            "Requirement already satisfied: pycparser in c:\\users\\rajas\\anaconda3\\lib\\site-packages (from cffi>=1.0->soundfile>=0.10.2->librosa) (2.20)\n",
            "Requirement already satisfied: future in c:\\users\\rajas\\anaconda3\\lib\\site-packages (from ffmpeg-python) (0.18.2)\n",
            "Requirement already satisfied: urllib3<1.25,>=1.21.1 in c:\\users\\rajas\\appdata\\roaming\\python\\python37\\site-packages (from requests->pooch>=1.0->librosa) (1.24.3)\n",
            "Requirement already satisfied: certifi>=2017.4.17 in c:\\users\\rajas\\anaconda3\\lib\\site-packages (from requests->pooch>=1.0->librosa) (2021.5.30)\n",
            "Requirement already satisfied: idna<2.9,>=2.5 in c:\\users\\rajas\\appdata\\roaming\\python\\python37\\site-packages (from requests->pooch>=1.0->librosa) (2.8)\n",
            "Requirement already satisfied: chardet<3.1.0,>=3.0.2 in c:\\users\\rajas\\appdata\\roaming\\python\\python37\\site-packages (from requests->pooch>=1.0->librosa) (3.0.4)\n",
            "Installing collected packages: fastprogress\n",
            "Successfully installed fastprogress-1.0.0\n"
          ],
          "name": "stdout"
        }
      ]
    },
    {
      "cell_type": "code",
      "metadata": {
        "colab": {
          "base_uri": "https://localhost:8080/"
        },
        "id": "r65XKE6al5ix",
        "outputId": "8a880506-893f-4566-b12c-0aa7cc905996"
      },
      "source": [
        "!pip install --upgrade google-cloud-texttospeech"
      ],
      "execution_count": null,
      "outputs": [
        {
          "output_type": "stream",
          "text": [
            "Collecting google-cloud-texttospeech\n",
            "  Downloading google_cloud_texttospeech-2.5.2-py2.py3-none-any.whl (65 kB)\n",
            "Collecting proto-plus>=1.4.0\n",
            "  Downloading proto_plus-1.19.0-py3-none-any.whl (42 kB)\n",
            "Requirement already satisfied: packaging>=14.3 in c:\\users\\rajas\\anaconda3\\lib\\site-packages (from google-cloud-texttospeech) (21.0)\n",
            "Collecting google-api-core[grpc]<3.0.0dev,>=1.26.0\n",
            "  Downloading google_api_core-1.31.1-py2.py3-none-any.whl (93 kB)\n",
            "Collecting google-auth<2.0dev,>=1.25.0\n",
            "  Downloading google_auth-1.34.0-py2.py3-none-any.whl (152 kB)\n",
            "Collecting googleapis-common-protos<2.0dev,>=1.6.0\n",
            "  Downloading googleapis_common_protos-1.53.0-py2.py3-none-any.whl (198 kB)\n",
            "Requirement already satisfied: requests<3.0.0dev,>=2.18.0 in c:\\users\\rajas\\appdata\\roaming\\python\\python37\\site-packages (from google-api-core[grpc]<3.0.0dev,>=1.26.0->google-cloud-texttospeech) (2.21.0)\n",
            "Requirement already satisfied: protobuf>=3.12.0 in c:\\users\\rajas\\anaconda3\\lib\\site-packages (from google-api-core[grpc]<3.0.0dev,>=1.26.0->google-cloud-texttospeech) (3.17.2)\n",
            "Requirement already satisfied: pytz in c:\\users\\rajas\\anaconda3\\lib\\site-packages (from google-api-core[grpc]<3.0.0dev,>=1.26.0->google-cloud-texttospeech) (2021.1)\n",
            "Requirement already satisfied: setuptools>=40.3.0 in c:\\users\\rajas\\anaconda3\\lib\\site-packages (from google-api-core[grpc]<3.0.0dev,>=1.26.0->google-cloud-texttospeech) (52.0.0.post20210125)\n",
            "Requirement already satisfied: six>=1.13.0 in c:\\users\\rajas\\anaconda3\\lib\\site-packages (from google-api-core[grpc]<3.0.0dev,>=1.26.0->google-cloud-texttospeech) (1.16.0)\n",
            "Requirement already satisfied: grpcio<2.0dev,>=1.29.0 in c:\\users\\rajas\\anaconda3\\lib\\site-packages (from google-api-core[grpc]<3.0.0dev,>=1.26.0->google-cloud-texttospeech) (1.36.1)\n",
            "Requirement already satisfied: rsa<5,>=3.1.4 in c:\\users\\rajas\\appdata\\roaming\\python\\python37\\site-packages (from google-auth<2.0dev,>=1.25.0->google-api-core[grpc]<3.0.0dev,>=1.26.0->google-cloud-texttospeech) (4.7.2)\n",
            "Requirement already satisfied: cachetools<5.0,>=2.0.0 in c:\\users\\rajas\\appdata\\roaming\\python\\python37\\site-packages (from google-auth<2.0dev,>=1.25.0->google-api-core[grpc]<3.0.0dev,>=1.26.0->google-cloud-texttospeech) (4.2.2)\n",
            "Requirement already satisfied: pyasn1-modules>=0.2.1 in c:\\users\\rajas\\appdata\\roaming\\python\\python37\\site-packages (from google-auth<2.0dev,>=1.25.0->google-api-core[grpc]<3.0.0dev,>=1.26.0->google-cloud-texttospeech) (0.2.8)\n",
            "Requirement already satisfied: pyparsing>=2.0.2 in c:\\users\\rajas\\anaconda3\\lib\\site-packages (from packaging>=14.3->google-cloud-texttospeech) (2.4.7)\n",
            "Requirement already satisfied: pyasn1<0.5.0,>=0.4.6 in c:\\users\\rajas\\appdata\\roaming\\python\\python37\\site-packages (from pyasn1-modules>=0.2.1->google-auth<2.0dev,>=1.25.0->google-api-core[grpc]<3.0.0dev,>=1.26.0->google-cloud-texttospeech) (0.4.8)\n",
            "Requirement already satisfied: certifi>=2017.4.17 in c:\\users\\rajas\\anaconda3\\lib\\site-packages (from requests<3.0.0dev,>=2.18.0->google-api-core[grpc]<3.0.0dev,>=1.26.0->google-cloud-texttospeech) (2021.5.30)\n",
            "Requirement already satisfied: chardet<3.1.0,>=3.0.2 in c:\\users\\rajas\\appdata\\roaming\\python\\python37\\site-packages (from requests<3.0.0dev,>=2.18.0->google-api-core[grpc]<3.0.0dev,>=1.26.0->google-cloud-texttospeech) (3.0.4)\n",
            "Requirement already satisfied: urllib3<1.25,>=1.21.1 in c:\\users\\rajas\\appdata\\roaming\\python\\python37\\site-packages (from requests<3.0.0dev,>=2.18.0->google-api-core[grpc]<3.0.0dev,>=1.26.0->google-cloud-texttospeech) (1.24.3)\n",
            "Requirement already satisfied: idna<2.9,>=2.5 in c:\\users\\rajas\\appdata\\roaming\\python\\python37\\site-packages (from requests<3.0.0dev,>=2.18.0->google-api-core[grpc]<3.0.0dev,>=1.26.0->google-cloud-texttospeech) (2.8)\n",
            "Installing collected packages: googleapis-common-protos, google-auth, google-api-core, proto-plus, google-cloud-texttospeech\n",
            "  Attempting uninstall: google-auth\n",
            "    Found existing installation: google-auth 1.4.2\n",
            "    Uninstalling google-auth-1.4.2:\n",
            "      Successfully uninstalled google-auth-1.4.2\n",
            "Successfully installed google-api-core-1.31.1 google-auth-1.34.0 google-cloud-texttospeech-2.5.2 googleapis-common-protos-1.53.0 proto-plus-1.19.0\n"
          ],
          "name": "stdout"
        }
      ]
    },
    {
      "cell_type": "code",
      "metadata": {
        "colab": {
          "base_uri": "https://localhost:8080/"
        },
        "id": "3gGhFVaqqGGA",
        "outputId": "e3b07c60-ce1e-4954-ecd5-fd3ea0e6aaed"
      },
      "source": [
        "!pip install torchsummary"
      ],
      "execution_count": null,
      "outputs": [
        {
          "output_type": "stream",
          "text": [
            "Collecting torchsummary\n",
            "  Using cached torchsummary-1.5.1-py3-none-any.whl (2.8 kB)\n",
            "Installing collected packages: torchsummary\n",
            "Successfully installed torchsummary-1.5.1\n"
          ],
          "name": "stdout"
        }
      ]
    },
    {
      "cell_type": "code",
      "metadata": {
        "id": "zDQ68xAn1cPd"
      },
      "source": [
        "!conda install -c conda-forge -y ffmpeg"
      ],
      "execution_count": null,
      "outputs": []
    },
    {
      "cell_type": "code",
      "metadata": {
        "id": "BA5pOSDTqM2N",
        "colab": {
          "base_uri": "https://localhost:8080/"
        },
        "outputId": "b10539ca-915d-479e-bf54-c6885d6fa40c"
      },
      "source": [
        "import pandas as pd\n",
        "import numpy as np\n",
        "import librosa\n",
        "import librosa.display\n",
        "import soundfile\n",
        "\n",
        "import torch\n",
        "import torch.utils.data as tud\n",
        "import torch.nn as nn\n",
        "import torch.nn.functional as F\n",
        "from torchsummary import summary\n",
        "from torchaudio.transforms import MelSpectrogram, ComputeDeltas\n",
        "\n",
        "from torch.optim.adamw import AdamW\n",
        "\n",
        "import textgrid\n",
        "\n",
        "import re\n",
        "import json\n",
        "import os\n",
        "import math\n",
        "import random\n",
        "\n",
        "from pathlib import Path\n",
        "from IPython.display import Audio\n",
        "\n",
        "from tqdm import tqdm\n",
        "tqdm.pandas()\n",
        "\n",
        "import matplotlib.pyplot as plt\n",
        "%matplotlib inline  \n",
        "\n",
        "import pyaudio\n",
        "import wave\n",
        "\n",
        "from fastprogress import master_bar, progress_bar\n",
        "\n",
        "from google.cloud import texttospeech\n",
        "\n",
        "import warnings\n",
        "warnings.simplefilter(\"ignore\", UserWarning)"
      ],
      "execution_count": null,
      "outputs": [
        {
          "output_type": "stream",
          "text": [
            "C:\\Users\\rajas\\Anaconda3\\lib\\site-packages\\torchaudio\\extension\\extension.py:13: UserWarning: torchaudio C++ extension is not available.\n",
            "  warnings.warn('torchaudio C++ extension is not available.')\n"
          ],
          "name": "stderr"
        }
      ]
    },
    {
      "cell_type": "markdown",
      "metadata": {
        "id": "JTbEF1VmqC4q"
      },
      "source": [
        "# 1. Prepare Dataset"
      ]
    },
    {
      "cell_type": "markdown",
      "metadata": {
        "id": "XUv5NfkJp4w5"
      },
      "source": [
        "## 1.1 load data from Mozilla common voice corpus"
      ]
    },
    {
      "cell_type": "code",
      "metadata": {
        "id": "lIGsE_WMyQ05"
      },
      "source": [
        "common_voice_datapath = 'D:\\\\GoogleDrive\\\\datasets\\\\cv-corpus-6.1-2020-12-11\\\\en'"
      ],
      "execution_count": null,
      "outputs": []
    },
    {
      "cell_type": "code",
      "metadata": {
        "colab": {
          "base_uri": "https://localhost:8080/"
        },
        "id": "HFBgwgrwkbGv",
        "outputId": "7d9c81bc-0814-4f2a-aa86-5f2c283661d7"
      },
      "source": [
        "%cd $common_voice_datapath"
      ],
      "execution_count": null,
      "outputs": [
        {
          "output_type": "stream",
          "text": [
            "D:\\GoogleDrive\\datasets\\cv-corpus-6.1-2020-12-11\\en\n"
          ],
          "name": "stdout"
        }
      ]
    },
    {
      "cell_type": "code",
      "metadata": {
        "colab": {
          "base_uri": "https://localhost:8080/"
        },
        "id": "5QooOjhCqHOO",
        "outputId": "f3f2a035-fe8f-4313-d14b-1b48b2f52a4e"
      },
      "source": [
        "%ls"
      ],
      "execution_count": null,
      "outputs": [
        {
          "output_type": "stream",
          "text": [
            " Volume in drive D is Data\n",
            " Volume Serial Number is D2ED-5322\n",
            "\n",
            " Directory of D:\\GoogleDrive\\datasets\\cv-corpus-6.1-2020-12-11\\en\n",
            "\n",
            "12/12/2020  06:54 PM    <DIR>          .\n",
            "12/12/2020  06:54 PM    <DIR>          ..\n",
            "07/13/2021  02:49 PM    <DIR>          clips\n",
            "12/17/2020  05:05 PM         3,759,462 dev.tsv\n",
            "12/17/2020  05:05 PM        44,843,183 invalidated.tsv\n",
            "12/17/2020  05:05 PM        38,372,321 other.tsv\n",
            "12/18/2020  01:32 PM           269,523 reported.tsv\n",
            "12/17/2020  05:05 PM         3,633,900 test.tsv\n",
            "12/17/2020  05:05 PM       138,386,852 train.tsv\n",
            "12/17/2020  05:05 PM       285,317,674 validated.tsv\n",
            "               7 File(s)    514,582,915 bytes\n",
            "               3 Dir(s)  405,241,425,920 bytes free\n"
          ],
          "name": "stdout"
        }
      ]
    },
    {
      "cell_type": "code",
      "metadata": {
        "id": "E5L0M7F7qS2H"
      },
      "source": [
        "wake_words = [\"hey\", \"fourth\", \"brain\"]\n",
        "wake_words_sequence = [\"0\", \"1\", \"2\"]\n",
        "wake_word_seq_map = dict(zip(wake_words, wake_words_sequence))\n"
      ],
      "execution_count": null,
      "outputs": []
    },
    {
      "cell_type": "code",
      "metadata": {
        "id": "WU4Ps81QKza7"
      },
      "source": [
        "# Waves are repeated signals that oscillate \n",
        "# and vary in amplitude, depending on their complexity. In the real world,\n",
        "# waves are continuous and mechanical — which is quite different from \n",
        "# computers being discrete and digital.\n",
        "\n",
        "# So, how do we translate something continuous and mechanical into something that is\n",
        "# discrete and digital? This is where the sample rate comes in. \n",
        "# Formally defined, the sample rate is the number of points per second \n",
        "# that is used to trace the signal.\n",
        "\n",
        "# Say, for example, the sample rate of the recorded audio is 100. \n",
        "# This means that for every recorded second of audio, the computer will place 100 \n",
        "# points along the signal in attempts to best “trace” the continuous curve. \n",
        "# Once all the points are in place, a smooth curve joins them all together \n",
        "# for humans to be able to visualize the sound. Since the recorded audio \n",
        "# is in terms of amplitude and time, we can intuitively say that the wave form\n",
        "# operates in the time domain.\n",
        "\n",
        "# Simply put, what resolution is to photos, sample rate is to audio.\n",
        "sr = 16000"
      ],
      "execution_count": null,
      "outputs": []
    },
    {
      "cell_type": "code",
      "metadata": {
        "id": "sNNkOjPrqQBl"
      },
      "source": [
        "train_data = pd.read_csv('train.tsv', sep='\\t')\n",
        "dev_data = pd.read_csv('dev.tsv', sep='\\t')\n",
        "test_data = pd.read_csv('test.tsv', sep='\\t')"
      ],
      "execution_count": null,
      "outputs": []
    },
    {
      "cell_type": "code",
      "metadata": {
        "colab": {
          "base_uri": "https://localhost:8080/"
        },
        "id": "nHXpE2i-q_fx",
        "outputId": "d630398e-4804-4548-9f28-aa36f2625c68"
      },
      "source": [
        "print(f\"Total clips available in Train {train_data.shape[0]}\")\n",
        "print(f\"Total clips available in Dev {dev_data.shape[0]}\")\n",
        "print(f\"Total clips available in Test {test_data.shape[0]}\")"
      ],
      "execution_count": null,
      "outputs": [
        {
          "output_type": "stream",
          "text": [
            "Total clips available in Train 564337\n",
            "Total clips available in Dev 16164\n",
            "Total clips available in Test 16164\n"
          ],
          "name": "stdout"
        }
      ]
    },
    {
      "cell_type": "code",
      "metadata": {
        "colab": {
          "base_uri": "https://localhost:8080/",
          "height": 204
        },
        "id": "1FHqBRIXrVZb",
        "outputId": "3c4a06c0-443f-4250-ea84-82b5e6873dad"
      },
      "source": [
        "train_data.head()"
      ],
      "execution_count": null,
      "outputs": [
        {
          "output_type": "execute_result",
          "data": {
            "text/plain": [
              "                                           client_id  \\\n",
              "0  cb0a827ee9102c07033d21f1d4bbdf74701720bc8867d4...   \n",
              "1  cb0a827ee9102c07033d21f1d4bbdf74701720bc8867d4...   \n",
              "2  cb0a827ee9102c07033d21f1d4bbdf74701720bc8867d4...   \n",
              "3  cb0a827ee9102c07033d21f1d4bbdf74701720bc8867d4...   \n",
              "4  cb118ddafaf4a59525bb7f8350549beb5f3d7720c8d83a...   \n",
              "\n",
              "                           path  \\\n",
              "0  common_voice_en_19731809.mp3   \n",
              "1  common_voice_en_19731810.mp3   \n",
              "2  common_voice_en_19731811.mp3   \n",
              "3  common_voice_en_19731812.mp3   \n",
              "4  common_voice_en_19968207.mp3   \n",
              "\n",
              "                                            sentence  up_votes  down_votes  \\\n",
              "0            Hannu wrote of his expedition in stone.         3           0   \n",
              "1  Little India differs from many other neighbour...         3           1   \n",
              "2  Users had the ability to vote on the songs the...         2           0   \n",
              "3  His major sponsor is Algario Communications, a...         2           1   \n",
              "4            The mansion also has a marriage office.         2           0   \n",
              "\n",
              "   age gender accent locale  segment  \n",
              "0  NaN    NaN    NaN     en      NaN  \n",
              "1  NaN    NaN    NaN     en      NaN  \n",
              "2  NaN    NaN    NaN     en      NaN  \n",
              "3  NaN    NaN    NaN     en      NaN  \n",
              "4  NaN    NaN    NaN     en      NaN  "
            ],
            "text/html": [
              "<div>\n",
              "<style scoped>\n",
              "    .dataframe tbody tr th:only-of-type {\n",
              "        vertical-align: middle;\n",
              "    }\n",
              "\n",
              "    .dataframe tbody tr th {\n",
              "        vertical-align: top;\n",
              "    }\n",
              "\n",
              "    .dataframe thead th {\n",
              "        text-align: right;\n",
              "    }\n",
              "</style>\n",
              "<table border=\"1\" class=\"dataframe\">\n",
              "  <thead>\n",
              "    <tr style=\"text-align: right;\">\n",
              "      <th></th>\n",
              "      <th>client_id</th>\n",
              "      <th>path</th>\n",
              "      <th>sentence</th>\n",
              "      <th>up_votes</th>\n",
              "      <th>down_votes</th>\n",
              "      <th>age</th>\n",
              "      <th>gender</th>\n",
              "      <th>accent</th>\n",
              "      <th>locale</th>\n",
              "      <th>segment</th>\n",
              "    </tr>\n",
              "  </thead>\n",
              "  <tbody>\n",
              "    <tr>\n",
              "      <th>0</th>\n",
              "      <td>cb0a827ee9102c07033d21f1d4bbdf74701720bc8867d4...</td>\n",
              "      <td>common_voice_en_19731809.mp3</td>\n",
              "      <td>Hannu wrote of his expedition in stone.</td>\n",
              "      <td>3</td>\n",
              "      <td>0</td>\n",
              "      <td>NaN</td>\n",
              "      <td>NaN</td>\n",
              "      <td>NaN</td>\n",
              "      <td>en</td>\n",
              "      <td>NaN</td>\n",
              "    </tr>\n",
              "    <tr>\n",
              "      <th>1</th>\n",
              "      <td>cb0a827ee9102c07033d21f1d4bbdf74701720bc8867d4...</td>\n",
              "      <td>common_voice_en_19731810.mp3</td>\n",
              "      <td>Little India differs from many other neighbour...</td>\n",
              "      <td>3</td>\n",
              "      <td>1</td>\n",
              "      <td>NaN</td>\n",
              "      <td>NaN</td>\n",
              "      <td>NaN</td>\n",
              "      <td>en</td>\n",
              "      <td>NaN</td>\n",
              "    </tr>\n",
              "    <tr>\n",
              "      <th>2</th>\n",
              "      <td>cb0a827ee9102c07033d21f1d4bbdf74701720bc8867d4...</td>\n",
              "      <td>common_voice_en_19731811.mp3</td>\n",
              "      <td>Users had the ability to vote on the songs the...</td>\n",
              "      <td>2</td>\n",
              "      <td>0</td>\n",
              "      <td>NaN</td>\n",
              "      <td>NaN</td>\n",
              "      <td>NaN</td>\n",
              "      <td>en</td>\n",
              "      <td>NaN</td>\n",
              "    </tr>\n",
              "    <tr>\n",
              "      <th>3</th>\n",
              "      <td>cb0a827ee9102c07033d21f1d4bbdf74701720bc8867d4...</td>\n",
              "      <td>common_voice_en_19731812.mp3</td>\n",
              "      <td>His major sponsor is Algario Communications, a...</td>\n",
              "      <td>2</td>\n",
              "      <td>1</td>\n",
              "      <td>NaN</td>\n",
              "      <td>NaN</td>\n",
              "      <td>NaN</td>\n",
              "      <td>en</td>\n",
              "      <td>NaN</td>\n",
              "    </tr>\n",
              "    <tr>\n",
              "      <th>4</th>\n",
              "      <td>cb118ddafaf4a59525bb7f8350549beb5f3d7720c8d83a...</td>\n",
              "      <td>common_voice_en_19968207.mp3</td>\n",
              "      <td>The mansion also has a marriage office.</td>\n",
              "      <td>2</td>\n",
              "      <td>0</td>\n",
              "      <td>NaN</td>\n",
              "      <td>NaN</td>\n",
              "      <td>NaN</td>\n",
              "      <td>en</td>\n",
              "      <td>NaN</td>\n",
              "    </tr>\n",
              "  </tbody>\n",
              "</table>\n",
              "</div>"
            ]
          },
          "metadata": {
            "tags": []
          },
          "execution_count": 81
        }
      ]
    },
    {
      "cell_type": "markdown",
      "metadata": {
        "id": "Jz-gJuirrWFt"
      },
      "source": [
        "## 1.2 Create postive dataset\n",
        "Search for the clips that contains wake words"
      ]
    },
    {
      "cell_type": "code",
      "metadata": {
        "id": "RLYwM4l1uOYB"
      },
      "source": [
        "regex_pattern = r'\\b(?:{})\\b'.format('|'.join(map(re.escape, wake_words)))\n",
        "pattern = re.compile(regex_pattern, flags=re.IGNORECASE)\n",
        "def wake_words_search(pattern, word):\n",
        "  try:\n",
        "    return bool(pattern.search(word))\n",
        "  except TypeError:\n",
        "    return False"
      ],
      "execution_count": null,
      "outputs": []
    },
    {
      "cell_type": "code",
      "metadata": {
        "id": "-onO1E5VrTar"
      },
      "source": [
        "positive_train_data = train_data[[wake_words_search(pattern, sentence) for sentence in train_data['sentence']]]\n",
        "positive_dev_data = dev_data[[wake_words_search(pattern, sentence) for sentence in dev_data['sentence']]]\n",
        "positive_test_data = test_data[[wake_words_search(pattern, sentence) for sentence in test_data['sentence']]]"
      ],
      "execution_count": null,
      "outputs": []
    },
    {
      "cell_type": "code",
      "metadata": {
        "colab": {
          "base_uri": "https://localhost:8080/",
          "height": 204
        },
        "id": "UY7itugkwGty",
        "outputId": "715d8e16-c7d7-4f09-9f66-b8090012e9e2"
      },
      "source": [
        "positive_train_data.head()"
      ],
      "execution_count": null,
      "outputs": [
        {
          "output_type": "execute_result",
          "data": {
            "text/plain": [
              "                                              client_id  \\\n",
              "155   cda19cf7dfa99f5343e257e38fd818afbaeaed41fedc39...   \n",
              "200   ce43273edc7cdfe3c74d5529a590bfb53e18e296fe8c7a...   \n",
              "876   da0850abc04765fb2d6cc79fb2c1a6aa337bf17bf114a8...   \n",
              "1303  e1fbfbc8b55819ea8f6f7ca0ff0f4340773ee03089e8ee...   \n",
              "2241  f37a8a0eca2db577a30ae229433b6a5d04cd9cd8bf447a...   \n",
              "\n",
              "                              path  \\\n",
              "155   common_voice_en_20433916.mp3   \n",
              "200   common_voice_en_20812859.mp3   \n",
              "876   common_voice_en_20851643.mp3   \n",
              "1303  common_voice_en_18356188.mp3   \n",
              "2241  common_voice_en_23585349.mp3   \n",
              "\n",
              "                                               sentence  up_votes  down_votes  \\\n",
              "155   He was decorated with the Order of the Golden ...         2           0   \n",
              "200    The fourth candidate is awarded a two-year term.         2           0   \n",
              "876   The climax of the event is the fourth day of t...         2           0   \n",
              "1303              A maddening joy pounded in his brain.         2           0   \n",
              "2241                             Where d'you live, hey?         2           0   \n",
              "\n",
              "      age gender accent locale  segment  \n",
              "155   NaN    NaN    NaN     en      NaN  \n",
              "200   NaN    NaN    NaN     en      NaN  \n",
              "876   NaN    NaN    NaN     en      NaN  \n",
              "1303  NaN    NaN    NaN     en      NaN  \n",
              "2241  NaN    NaN    NaN     en      NaN  "
            ],
            "text/html": [
              "<div>\n",
              "<style scoped>\n",
              "    .dataframe tbody tr th:only-of-type {\n",
              "        vertical-align: middle;\n",
              "    }\n",
              "\n",
              "    .dataframe tbody tr th {\n",
              "        vertical-align: top;\n",
              "    }\n",
              "\n",
              "    .dataframe thead th {\n",
              "        text-align: right;\n",
              "    }\n",
              "</style>\n",
              "<table border=\"1\" class=\"dataframe\">\n",
              "  <thead>\n",
              "    <tr style=\"text-align: right;\">\n",
              "      <th></th>\n",
              "      <th>client_id</th>\n",
              "      <th>path</th>\n",
              "      <th>sentence</th>\n",
              "      <th>up_votes</th>\n",
              "      <th>down_votes</th>\n",
              "      <th>age</th>\n",
              "      <th>gender</th>\n",
              "      <th>accent</th>\n",
              "      <th>locale</th>\n",
              "      <th>segment</th>\n",
              "    </tr>\n",
              "  </thead>\n",
              "  <tbody>\n",
              "    <tr>\n",
              "      <th>155</th>\n",
              "      <td>cda19cf7dfa99f5343e257e38fd818afbaeaed41fedc39...</td>\n",
              "      <td>common_voice_en_20433916.mp3</td>\n",
              "      <td>He was decorated with the Order of the Golden ...</td>\n",
              "      <td>2</td>\n",
              "      <td>0</td>\n",
              "      <td>NaN</td>\n",
              "      <td>NaN</td>\n",
              "      <td>NaN</td>\n",
              "      <td>en</td>\n",
              "      <td>NaN</td>\n",
              "    </tr>\n",
              "    <tr>\n",
              "      <th>200</th>\n",
              "      <td>ce43273edc7cdfe3c74d5529a590bfb53e18e296fe8c7a...</td>\n",
              "      <td>common_voice_en_20812859.mp3</td>\n",
              "      <td>The fourth candidate is awarded a two-year term.</td>\n",
              "      <td>2</td>\n",
              "      <td>0</td>\n",
              "      <td>NaN</td>\n",
              "      <td>NaN</td>\n",
              "      <td>NaN</td>\n",
              "      <td>en</td>\n",
              "      <td>NaN</td>\n",
              "    </tr>\n",
              "    <tr>\n",
              "      <th>876</th>\n",
              "      <td>da0850abc04765fb2d6cc79fb2c1a6aa337bf17bf114a8...</td>\n",
              "      <td>common_voice_en_20851643.mp3</td>\n",
              "      <td>The climax of the event is the fourth day of t...</td>\n",
              "      <td>2</td>\n",
              "      <td>0</td>\n",
              "      <td>NaN</td>\n",
              "      <td>NaN</td>\n",
              "      <td>NaN</td>\n",
              "      <td>en</td>\n",
              "      <td>NaN</td>\n",
              "    </tr>\n",
              "    <tr>\n",
              "      <th>1303</th>\n",
              "      <td>e1fbfbc8b55819ea8f6f7ca0ff0f4340773ee03089e8ee...</td>\n",
              "      <td>common_voice_en_18356188.mp3</td>\n",
              "      <td>A maddening joy pounded in his brain.</td>\n",
              "      <td>2</td>\n",
              "      <td>0</td>\n",
              "      <td>NaN</td>\n",
              "      <td>NaN</td>\n",
              "      <td>NaN</td>\n",
              "      <td>en</td>\n",
              "      <td>NaN</td>\n",
              "    </tr>\n",
              "    <tr>\n",
              "      <th>2241</th>\n",
              "      <td>f37a8a0eca2db577a30ae229433b6a5d04cd9cd8bf447a...</td>\n",
              "      <td>common_voice_en_23585349.mp3</td>\n",
              "      <td>Where d'you live, hey?</td>\n",
              "      <td>2</td>\n",
              "      <td>0</td>\n",
              "      <td>NaN</td>\n",
              "      <td>NaN</td>\n",
              "      <td>NaN</td>\n",
              "      <td>en</td>\n",
              "      <td>NaN</td>\n",
              "    </tr>\n",
              "  </tbody>\n",
              "</table>\n",
              "</div>"
            ]
          },
          "metadata": {
            "tags": []
          },
          "execution_count": 84
        }
      ]
    },
    {
      "cell_type": "code",
      "metadata": {
        "colab": {
          "base_uri": "https://localhost:8080/"
        },
        "id": "bBS0b8B3wss_",
        "outputId": "2b0664b7-1192-44ee-85fa-be8f0e587ee6"
      },
      "source": [
        "print(f\"Total clips available in Train with wake words {positive_train_data.shape[0]}\")\n",
        "print(f\"Total clips available in Dev with wake words {positive_dev_data.shape[0]}\")\n",
        "print(f\"Total clips available in Test with wake words {positive_test_data.shape[0]}\")"
      ],
      "execution_count": null,
      "outputs": [
        {
          "output_type": "stream",
          "text": [
            "Total clips available in Train with wake words 1112\n",
            "Total clips available in Dev with wake words 41\n",
            "Total clips available in Test with wake words 31\n"
          ],
          "name": "stdout"
        }
      ]
    },
    {
      "cell_type": "code",
      "metadata": {
        "colab": {
          "base_uri": "https://localhost:8080/"
        },
        "id": "tRwwZMa_zaDU",
        "outputId": "6bf1073a-8ae5-45f6-9ae1-6c7cedc895a7"
      },
      "source": [
        "positive_train_data.iloc[0]"
      ],
      "execution_count": null,
      "outputs": [
        {
          "output_type": "execute_result",
          "data": {
            "text/plain": [
              "client_id     cda19cf7dfa99f5343e257e38fd818afbaeaed41fedc39...\n",
              "path                               common_voice_en_20433916.mp3\n",
              "sentence      He was decorated with the Order of the Golden ...\n",
              "up_votes                                                      2\n",
              "down_votes                                                    0\n",
              "age                                                         NaN\n",
              "gender                                                      NaN\n",
              "accent                                                      NaN\n",
              "locale                                                       en\n",
              "segment                                                     NaN\n",
              "Name: 155, dtype: object"
            ]
          },
          "metadata": {
            "tags": []
          },
          "execution_count": 86
        }
      ]
    },
    {
      "cell_type": "markdown",
      "metadata": {
        "id": "4CPM0GPCHG1_"
      },
      "source": [
        "## 1.3 Visualizing the data"
      ]
    },
    {
      "cell_type": "markdown",
      "metadata": {
        "id": "j9LzSi3oHTRK"
      },
      "source": [
        "### 1.3.1 loading mp3 file in librosa"
      ]
    },
    {
      "cell_type": "code",
      "metadata": {
        "id": "Uxy4d9fjzMuG"
      },
      "source": [
        "sounddata = librosa.core.load(f\"{common_voice_datapath}/clips/common_voice_en_20433916.mp3\", sr=sr, mono=True)[0]"
      ],
      "execution_count": null,
      "outputs": []
    },
    {
      "cell_type": "markdown",
      "metadata": {
        "id": "juhc8zfaHdoR"
      },
      "source": [
        "### 1.3.2 Getting the length in milli seconds"
      ]
    },
    {
      "cell_type": "code",
      "metadata": {
        "colab": {
          "base_uri": "https://localhost:8080/"
        },
        "id": "nQe_L69Oq8QX",
        "outputId": "28dcc183-c4e8-4c31-adb0-9237a7188877"
      },
      "source": [
        "# calculate length\n",
        "sounddata.size / sr * 1000"
      ],
      "execution_count": null,
      "outputs": [
        {
          "output_type": "execute_result",
          "data": {
            "text/plain": [
              "6384.0"
            ]
          },
          "metadata": {
            "tags": []
          },
          "execution_count": 13
        }
      ]
    },
    {
      "cell_type": "code",
      "metadata": {
        "colab": {
          "base_uri": "https://localhost:8080/"
        },
        "id": "VBjZi-TEmrnQ",
        "outputId": "04330c14-5ff2-4729-8bfa-abfda6880b15"
      },
      "source": [
        "# getting the duration of the audio file\n",
        "librosa.get_duration(sounddata, sr)"
      ],
      "execution_count": null,
      "outputs": [
        {
          "output_type": "execute_result",
          "data": {
            "text/plain": [
              "6.384"
            ]
          },
          "metadata": {
            "tags": []
          },
          "execution_count": 91
        }
      ]
    },
    {
      "cell_type": "code",
      "metadata": {
        "colab": {
          "base_uri": "https://localhost:8080/"
        },
        "id": "iwNhRde28myB",
        "outputId": "df256a97-6d6b-4211-82fa-8b1233d55b32"
      },
      "source": [
        "sounddata.size"
      ],
      "execution_count": null,
      "outputs": [
        {
          "output_type": "execute_result",
          "data": {
            "text/plain": [
              "102144"
            ]
          },
          "metadata": {
            "tags": []
          },
          "execution_count": 17
        }
      ]
    },
    {
      "cell_type": "markdown",
      "metadata": {
        "id": "XZTBv2tQH0bK"
      },
      "source": [
        "### 1.3.3 Playing the audio sample"
      ]
    },
    {
      "cell_type": "code",
      "metadata": {
        "colab": {
          "base_uri": "https://localhost:8080/",
          "height": 75
        },
        "id": "4FcJtpVM2QbR",
        "outputId": "00abccfc-6b7f-4812-f8d0-9091f6c9b87c"
      },
      "source": [
        "Audio(sounddata,rate=sr)"
      ],
      "execution_count": null,
      "outputs": [
        {
          "output_type": "execute_result",
          "data": {
            "text/plain": [
              "<IPython.lib.display.Audio object>"
            ],
            "text/html": [
              "\n",
              "                <audio  controls=\"controls\" >\n",
              "                    <source src=\"data:audio/wav;base64,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\" type=\"audio/wav\" />\n",
              "                    Your browser does not support the audio element.\n",
              "                </audio>\n",
              "              "
            ]
          },
          "metadata": {
            "tags": []
          },
          "execution_count": 18
        }
      ]
    },
    {
      "cell_type": "markdown",
      "metadata": {
        "id": "kq0sQVUOH7Bm"
      },
      "source": [
        "### 1.3.4 Plotting the signal (Time domain)\n"
      ]
    },
    {
      "cell_type": "code",
      "metadata": {
        "colab": {
          "base_uri": "https://localhost:8080/",
          "height": 312
        },
        "id": "wGo4N8b7-54x",
        "outputId": "21bcfbe6-6fed-4f76-d2f0-babb5ed095c4"
      },
      "source": [
        "# plotting the signal in time series\n",
        "plt.plot(sounddata)\n",
        "plt.title('Signal')\n",
        "plt.xlabel('Time (samples)')\n",
        "plt.ylabel('Amplitude')"
      ],
      "execution_count": null,
      "outputs": [
        {
          "output_type": "execute_result",
          "data": {
            "text/plain": [
              "Text(0, 0.5, 'Amplitude')"
            ]
          },
          "metadata": {
            "tags": []
          },
          "execution_count": 27
        },
        {
          "output_type": "display_data",
          "data": {
            "text/plain": [
              "<Figure size 432x288 with 1 Axes>"
            ],
            "image/png": "[encoded data removed]"
          },
          "metadata": {
            "tags": [],
            "needs_background": "light"
          }
        }
      ]
    },
    {
      "cell_type": "markdown",
      "metadata": {
        "id": "ubBkNmhqMYKL"
      },
      "source": [
        "### 1.3.5 Calculate to FFT on one window segment"
      ]
    },
    {
      "cell_type": "code",
      "metadata": {
        "colab": {
          "base_uri": "https://localhost:8080/",
          "height": 295
        },
        "id": "ZpINcXIR_kZJ",
        "outputId": "7f6e1e89-6e36-4b7b-8bda-3bdf8355b386"
      },
      "source": [
        "# calculating FFT for one windowed segment\n",
        "n_fft = 512\n",
        "ft = np.abs(librosa.stft(sounddata[:n_fft], hop_length = 200))\n",
        "plt.plot(ft);\n",
        "plt.title('Spectrum');\n",
        "plt.xlabel('Frequency Bin');\n",
        "plt.ylabel('Amplitude');"
      ],
      "execution_count": null,
      "outputs": [
        {
          "output_type": "display_data",
          "data": {
            "text/plain": [
              "<Figure size 432x288 with 1 Axes>"
            ],
            "image/png": "[encoded data removed]"
          },
          "metadata": {
            "tags": [],
            "needs_background": "light"
          }
        }
      ]
    },
    {
      "cell_type": "markdown",
      "metadata": {
        "id": "5nNX_l5QMrIc"
      },
      "source": [
        "### 1.3.6 Calculating Spectogram"
      ]
    },
    {
      "cell_type": "code",
      "metadata": {
        "id": "UFQ97eXc_2tp",
        "colab": {
          "base_uri": "https://localhost:8080/",
          "height": 295
        },
        "outputId": "db6cdcbb-436d-44fb-fb51-0658cc4b2156"
      },
      "source": [
        "# The FFT is computed on overlapping windowed segments of the signal, and we get what is called the spectrogram. \n",
        "# You can think of a spectrogram as a bunch of FFTs stacked on top of each other. It is a way to visually represent a signal’s loudness,\n",
        "# or amplitude, as it varies over time at different frequencies.\n",
        "\n",
        "# first compute short-time Fourier transform (STFT)\n",
        "# The y-axis is converted to a log scale\n",
        "spec = np.abs(librosa.stft(sounddata, hop_length=200))\n",
        "# the color dimension is converted to decibels (you can think of this as the log scale of the amplitude)\n",
        "spec = librosa.amplitude_to_db(spec, ref=np.max)\n",
        "\n",
        "librosa.display.specshow(spec, sr=sr, x_axis='time', y_axis='log');\n",
        "plt.colorbar(format='%+2.0f dB');\n",
        "plt.title('Spectrogram');"
      ],
      "execution_count": null,
      "outputs": [
        {
          "output_type": "display_data",
          "data": {
            "text/plain": [
              "<Figure size 432x288 with 2 Axes>"
            ],
            "image/png": "[encoded data removed]"
          },
          "metadata": {
            "tags": [],
            "needs_background": "light"
          }
        }
      ]
    },
    {
      "cell_type": "code",
      "metadata": {
        "colab": {
          "base_uri": "https://localhost:8080/"
        },
        "id": "4c8nqV-rEh71",
        "outputId": "d3425001-eab3-4341-aadd-c5ffa9970ddf"
      },
      "source": [
        "spec.size"
      ],
      "execution_count": null,
      "outputs": [
        {
          "output_type": "execute_result",
          "data": {
            "text/plain": [
              "523775"
            ]
          },
          "metadata": {
            "tags": []
          },
          "execution_count": 59
        }
      ]
    },
    {
      "cell_type": "markdown",
      "metadata": {
        "id": "Mjn_Qz1RMz0Z"
      },
      "source": [
        "### 1.3.7 Calculating Mel Spectogram"
      ]
    },
    {
      "cell_type": "code",
      "metadata": {
        "colab": {
          "base_uri": "https://localhost:8080/",
          "height": 295
        },
        "id": "R7T9aGQZCZiM",
        "outputId": "f9b65406-b186-4303-c2b4-5d08c1886bb3"
      },
      "source": [
        "# A mel spectrogram is a spectrogram where the frequencies are converted to the mel scale. \n",
        "mel_spect = librosa.feature.melspectrogram(y=sounddata, sr=sr, n_fft=512, hop_length=200)\n",
        "mel_spect = librosa.power_to_db(mel_spect, ref=np.max)\n",
        "librosa.display.specshow(mel_spect, y_axis='mel', fmax=8000, x_axis='time');\n",
        "plt.title('Mel Spectrogram');\n",
        "plt.colorbar(format='%+2.0f dB');"
      ],
      "execution_count": null,
      "outputs": [
        {
          "output_type": "display_data",
          "data": {
            "text/plain": [
              "<Figure size 432x288 with 2 Axes>"
            ],
            "image/png": "[encoded data removed]"
          },
          "metadata": {
            "tags": [],
            "needs_background": "light"
          }
        }
      ]
    },
    {
      "cell_type": "code",
      "metadata": {
        "colab": {
          "base_uri": "https://localhost:8080/"
        },
        "id": "98TkoPlbEGqQ",
        "outputId": "cc9cdb3d-d413-4897-9740-d5766297264c"
      },
      "source": [
        "mel_spect.size"
      ],
      "execution_count": null,
      "outputs": [
        {
          "output_type": "execute_result",
          "data": {
            "text/plain": [
              "65408"
            ]
          },
          "metadata": {
            "tags": []
          },
          "execution_count": 61
        }
      ]
    },
    {
      "cell_type": "markdown",
      "metadata": {
        "id": "IcqO0hoeM8wZ"
      },
      "source": [
        "### 1.3.8 Trimming to fixed length\n",
        "We will be using 750 ms"
      ]
    },
    {
      "cell_type": "code",
      "metadata": {
        "id": "XWcKRaC28tWT",
        "colab": {
          "base_uri": "https://localhost:8080/"
        },
        "outputId": "a45f90f9-51d7-43ee-82db-07ddd0d3b715"
      },
      "source": [
        "# trimming to max length - 750 ms\n",
        "max_len = 750 / 1000 * sr\n",
        "max_len"
      ],
      "execution_count": null,
      "outputs": [
        {
          "output_type": "execute_result",
          "data": {
            "text/plain": [
              "12000.0"
            ]
          },
          "metadata": {
            "tags": []
          },
          "execution_count": 24
        }
      ]
    },
    {
      "cell_type": "code",
      "metadata": {
        "colab": {
          "base_uri": "https://localhost:8080/",
          "height": 75
        },
        "id": "JHRqO685-Btv",
        "outputId": "218feccb-7758-4451-ba3f-92a5d29fc035"
      },
      "source": [
        "Audio(sounddata[:int(max_len)], rate=sr)"
      ],
      "execution_count": null,
      "outputs": [
        {
          "output_type": "execute_result",
          "data": {
            "text/plain": [
              "<IPython.lib.display.Audio object>"
            ],
            "text/html": [
              "\n",
              "                <audio  controls=\"controls\" >\n",
              "                    <source src=\"data:audio/wav;base64,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\" type=\"audio/wav\" />\n",
              "                    Your browser does not support the audio element.\n",
              "                </audio>\n",
              "              "
            ]
          },
          "metadata": {
            "tags": []
          },
          "execution_count": 23
        }
      ]
    },
    {
      "cell_type": "code",
      "metadata": {
        "id": "q257eXHREsB7"
      },
      "source": [
        "trim_sd =  sounddata[:int(max_len)]"
      ],
      "execution_count": null,
      "outputs": []
    },
    {
      "cell_type": "code",
      "metadata": {
        "colab": {
          "base_uri": "https://localhost:8080/"
        },
        "id": "A4f6sZ_TE2sq",
        "outputId": "baf2dd32-91c1-4af4-e97b-b2cbfd192b47"
      },
      "source": [
        "trim_sd.size"
      ],
      "execution_count": null,
      "outputs": [
        {
          "output_type": "execute_result",
          "data": {
            "text/plain": [
              "12000"
            ]
          },
          "metadata": {
            "tags": []
          },
          "execution_count": 50
        }
      ]
    },
    {
      "cell_type": "code",
      "metadata": {
        "id": "CvSaHkln-DUh",
        "colab": {
          "base_uri": "https://localhost:8080/",
          "height": 295
        },
        "outputId": "49ae9f11-bf40-4097-b228-7f29a5880dec"
      },
      "source": [
        "spec = np.abs(librosa.stft(trim_sd, n_fft=512, hop_length=200))\n",
        "# the color dimension is converted to decibels (you can think of this as the log scale of the amplitude)\n",
        "spec = librosa.amplitude_to_db(spec, ref=np.max)\n",
        "\n",
        "librosa.display.specshow(spec, sr=sr, x_axis='time', y_axis='log');\n",
        "plt.colorbar(format='%+2.0f dB');\n",
        "plt.title('Spectrogram');"
      ],
      "execution_count": null,
      "outputs": [
        {
          "output_type": "display_data",
          "data": {
            "text/plain": [
              "<Figure size 432x288 with 2 Axes>"
            ],
            "image/png": "[encoded data removed]"
          },
          "metadata": {
            "tags": [],
            "needs_background": "light"
          }
        }
      ]
    },
    {
      "cell_type": "code",
      "metadata": {
        "colab": {
          "base_uri": "https://localhost:8080/"
        },
        "id": "Xm5Rocn1FOs7",
        "outputId": "e4c3b455-b893-43c7-b408-d550d549be26"
      },
      "source": [
        "spec.shape\n",
        "# The number of rows in the STFT matrix D is (1 + n_fft/2)\n",
        "# However, in speech processing, the recommended value is 512, corresponding to 23 milliseconds at a sample rate of 22050 Hz.\n",
        "# The number of columns is size/hop_length + 1"
      ],
      "execution_count": null,
      "outputs": [
        {
          "output_type": "execute_result",
          "data": {
            "text/plain": [
              "(257, 61)"
            ]
          },
          "metadata": {
            "tags": []
          },
          "execution_count": 77
        }
      ]
    },
    {
      "cell_type": "code",
      "metadata": {
        "colab": {
          "base_uri": "https://localhost:8080/",
          "height": 295
        },
        "id": "6o8GmgAjFG0V",
        "outputId": "f4379c18-b5b9-4810-d94a-9120988326ce"
      },
      "source": [
        "# A mel spectrogram is a spectrogram where the frequencies are converted to the mel scale. \n",
        "# n_mels -  mel filters applied which reduces the number of bands to n_mels (typically 32-128)\n",
        "mel_spect = librosa.feature.melspectrogram(y=trim_sd, sr=sr, n_mels=40, n_fft=512, hop_length=200)\n",
        "mel_spect = librosa.power_to_db(mel_spect, ref=np.max)\n",
        "librosa.display.specshow(mel_spect, y_axis='mel', fmax=8000, x_axis='time');\n",
        "plt.title('Mel Spectrogram');\n",
        "plt.colorbar(format='%+2.0f dB');"
      ],
      "execution_count": null,
      "outputs": [
        {
          "output_type": "display_data",
          "data": {
            "text/plain": [
              "<Figure size 432x288 with 2 Axes>"
            ],
            "image/png": "[encoded data removed]"
          },
          "metadata": {
            "tags": [],
            "needs_background": "light"
          }
        }
      ]
    },
    {
      "cell_type": "code",
      "metadata": {
        "colab": {
          "base_uri": "https://localhost:8080/"
        },
        "id": "kMBHD2gMFRBU",
        "outputId": "2cd2d796-1f2d-46f2-f84e-e413f8d661b1"
      },
      "source": [
        "mel_spect.shape"
      ],
      "execution_count": null,
      "outputs": [
        {
          "output_type": "execute_result",
          "data": {
            "text/plain": [
              "(40, 61)"
            ]
          },
          "metadata": {
            "tags": []
          },
          "execution_count": 70
        }
      ]
    },
    {
      "cell_type": "markdown",
      "metadata": {
        "id": "cVwcqb5JOG56"
      },
      "source": [
        " The sounds of our voices — are really just a sum of many sine and cosine signals.\n",
        "<br> It is important to note that by using this transformation, we will be translating the audio from the time-domain to the frequency-domain.\n",
        "<br> The time domain looks at the variation of the signal’s amplitude over time. This is useful for understanding its physical shape. \n",
        "<br> In order to plot this, we need time on the x-axis and amplitude on the y-axis. The shape gives us a good idea of how loud or quiet the sound will be.\n",
        "<br> The frequency domain observes the constituent signals our recording is comprised of. By doing this, we can find a sort of “fingerprint” of the sound.\n",
        "<br> In order to plot this, we need frequency on the x-axis and magnitude on the y-axis. \n",
        "<br> The larger the magnitude, the more important that frequency is. The magnitude is simply the absolute value of our results from the FFT.\n",
        "\n",
        "<br> The Mel Scale is a logarithmic transformation of a signal’s frequency\n",
        "<br> The linear audio spectrogram is ideally suited for applications where all frequencies have equal importance, \n",
        "<br> while mel spectrograms are better suited for applications that need to model human hearing perception.\n",
        "<br> Mel spectrogram data is also suited for use in audio classification applications.\n",
        "\n",
        "<br> The Fourier transform is a mathematical formula that allows us to decompose a signal \n",
        "<br> into it’s individual frequencies and the frequency’s amplitude. In other words, it \n",
        "<br> converts the signal from the time domain into the frequency domain. The result is called a spectrum.\n",
        "\n",
        "\n",
        "<br>The y-axis is converted to a log scale, and the color dimension is converted to decibels  (you can think of this as the log scale of the amplitude). This is because humans can only  perceive a very small and concentrated range of frequencies and amplitudes.\n",
        "\n"
      ]
    },
    {
      "cell_type": "markdown",
      "metadata": {
        "id": "pHrm7Ku7Q9Bo"
      },
      "source": [
        "<img src=\"https://miro.medium.com/max/600/1*uxQnCXu0qR1KeOOEZBq4-g.gif\"/>\n",
        "\n",
        "<img src=\"https://miro.medium.com/max/1400/1*xTYCtcx_7otHVu-uToI9dA.png\"/>\n",
        "\n",
        "<img src=\"https://miro.medium.com/max/1400/1*tIBRdtG3EfjmSIlraWVIxw.png\"/>"
      ]
    },
    {
      "cell_type": "markdown",
      "metadata": {
        "id": "jDm6CuOVoS8R"
      },
      "source": [
        "## 1.4 Create Negative dataset"
      ]
    },
    {
      "cell_type": "code",
      "metadata": {
        "id": "_LixzhDloR1E"
      },
      "source": [
        "negative_train_data = train_data[[not wake_words_search(pattern, sentence) for sentence in train_data['sentence']]]\n",
        "negative_dev_data = dev_data[[not wake_words_search(pattern, sentence) for sentence in dev_data['sentence']]]\n",
        "negative_test_data = test_data[[not wake_words_search(pattern, sentence) for sentence in test_data['sentence']]]"
      ],
      "execution_count": null,
      "outputs": []
    },
    {
      "cell_type": "code",
      "metadata": {
        "colab": {
          "base_uri": "https://localhost:8080/",
          "height": 204
        },
        "id": "IgjUA5q3o0bs",
        "outputId": "d17c929c-61c0-4d2e-ec26-d74ebeae0e5c"
      },
      "source": [
        "negative_train_data.head()"
      ],
      "execution_count": null,
      "outputs": [
        {
          "output_type": "execute_result",
          "data": {
            "text/plain": [
              "                                           client_id  \\\n",
              "0  cb0a827ee9102c07033d21f1d4bbdf74701720bc8867d4...   \n",
              "1  cb0a827ee9102c07033d21f1d4bbdf74701720bc8867d4...   \n",
              "2  cb0a827ee9102c07033d21f1d4bbdf74701720bc8867d4...   \n",
              "3  cb0a827ee9102c07033d21f1d4bbdf74701720bc8867d4...   \n",
              "4  cb118ddafaf4a59525bb7f8350549beb5f3d7720c8d83a...   \n",
              "\n",
              "                           path  \\\n",
              "0  common_voice_en_19731809.mp3   \n",
              "1  common_voice_en_19731810.mp3   \n",
              "2  common_voice_en_19731811.mp3   \n",
              "3  common_voice_en_19731812.mp3   \n",
              "4  common_voice_en_19968207.mp3   \n",
              "\n",
              "                                            sentence  up_votes  down_votes  \\\n",
              "0            Hannu wrote of his expedition in stone.         3           0   \n",
              "1  Little India differs from many other neighbour...         3           1   \n",
              "2  Users had the ability to vote on the songs the...         2           0   \n",
              "3  His major sponsor is Algario Communications, a...         2           1   \n",
              "4            The mansion also has a marriage office.         2           0   \n",
              "\n",
              "   age gender accent locale  segment  \n",
              "0  NaN    NaN    NaN     en      NaN  \n",
              "1  NaN    NaN    NaN     en      NaN  \n",
              "2  NaN    NaN    NaN     en      NaN  \n",
              "3  NaN    NaN    NaN     en      NaN  \n",
              "4  NaN    NaN    NaN     en      NaN  "
            ],
            "text/html": [
              "<div>\n",
              "<style scoped>\n",
              "    .dataframe tbody tr th:only-of-type {\n",
              "        vertical-align: middle;\n",
              "    }\n",
              "\n",
              "    .dataframe tbody tr th {\n",
              "        vertical-align: top;\n",
              "    }\n",
              "\n",
              "    .dataframe thead th {\n",
              "        text-align: right;\n",
              "    }\n",
              "</style>\n",
              "<table border=\"1\" class=\"dataframe\">\n",
              "  <thead>\n",
              "    <tr style=\"text-align: right;\">\n",
              "      <th></th>\n",
              "      <th>client_id</th>\n",
              "      <th>path</th>\n",
              "      <th>sentence</th>\n",
              "      <th>up_votes</th>\n",
              "      <th>down_votes</th>\n",
              "      <th>age</th>\n",
              "      <th>gender</th>\n",
              "      <th>accent</th>\n",
              "      <th>locale</th>\n",
              "      <th>segment</th>\n",
              "    </tr>\n",
              "  </thead>\n",
              "  <tbody>\n",
              "    <tr>\n",
              "      <th>0</th>\n",
              "      <td>cb0a827ee9102c07033d21f1d4bbdf74701720bc8867d4...</td>\n",
              "      <td>common_voice_en_19731809.mp3</td>\n",
              "      <td>Hannu wrote of his expedition in stone.</td>\n",
              "      <td>3</td>\n",
              "      <td>0</td>\n",
              "      <td>NaN</td>\n",
              "      <td>NaN</td>\n",
              "      <td>NaN</td>\n",
              "      <td>en</td>\n",
              "      <td>NaN</td>\n",
              "    </tr>\n",
              "    <tr>\n",
              "      <th>1</th>\n",
              "      <td>cb0a827ee9102c07033d21f1d4bbdf74701720bc8867d4...</td>\n",
              "      <td>common_voice_en_19731810.mp3</td>\n",
              "      <td>Little India differs from many other neighbour...</td>\n",
              "      <td>3</td>\n",
              "      <td>1</td>\n",
              "      <td>NaN</td>\n",
              "      <td>NaN</td>\n",
              "      <td>NaN</td>\n",
              "      <td>en</td>\n",
              "      <td>NaN</td>\n",
              "    </tr>\n",
              "    <tr>\n",
              "      <th>2</th>\n",
              "      <td>cb0a827ee9102c07033d21f1d4bbdf74701720bc8867d4...</td>\n",
              "      <td>common_voice_en_19731811.mp3</td>\n",
              "      <td>Users had the ability to vote on the songs the...</td>\n",
              "      <td>2</td>\n",
              "      <td>0</td>\n",
              "      <td>NaN</td>\n",
              "      <td>NaN</td>\n",
              "      <td>NaN</td>\n",
              "      <td>en</td>\n",
              "      <td>NaN</td>\n",
              "    </tr>\n",
              "    <tr>\n",
              "      <th>3</th>\n",
              "      <td>cb0a827ee9102c07033d21f1d4bbdf74701720bc8867d4...</td>\n",
              "      <td>common_voice_en_19731812.mp3</td>\n",
              "      <td>His major sponsor is Algario Communications, a...</td>\n",
              "      <td>2</td>\n",
              "      <td>1</td>\n",
              "      <td>NaN</td>\n",
              "      <td>NaN</td>\n",
              "      <td>NaN</td>\n",
              "      <td>en</td>\n",
              "      <td>NaN</td>\n",
              "    </tr>\n",
              "    <tr>\n",
              "      <th>4</th>\n",
              "      <td>cb118ddafaf4a59525bb7f8350549beb5f3d7720c8d83a...</td>\n",
              "      <td>common_voice_en_19968207.mp3</td>\n",
              "      <td>The mansion also has a marriage office.</td>\n",
              "      <td>2</td>\n",
              "      <td>0</td>\n",
              "      <td>NaN</td>\n",
              "      <td>NaN</td>\n",
              "      <td>NaN</td>\n",
              "      <td>en</td>\n",
              "      <td>NaN</td>\n",
              "    </tr>\n",
              "  </tbody>\n",
              "</table>\n",
              "</div>"
            ]
          },
          "metadata": {
            "tags": []
          },
          "execution_count": 95
        }
      ]
    },
    {
      "cell_type": "code",
      "metadata": {
        "colab": {
          "base_uri": "https://localhost:8080/"
        },
        "id": "V9TwuX27pBc6",
        "outputId": "e3b3f9c1-cbf7-4424-b70e-5e24eb76e429"
      },
      "source": [
        "# negative data size\n",
        "print(f\"Total clips available in Train without wake words {negative_train_data.shape[0]}\")\n",
        "print(f\"Total clips available in Dev without wake words {negative_dev_data.shape[0]}\")\n",
        "print(f\"Total clips available in Test without wake words {negative_test_data.shape[0]}\")"
      ],
      "execution_count": null,
      "outputs": [
        {
          "output_type": "stream",
          "text": [
            "Total clips available in Train without wake words 563225\n",
            "Total clips available in Dev without wake words 16123\n",
            "Total clips available in Test without wake words 16133\n"
          ],
          "name": "stdout"
        }
      ]
    },
    {
      "cell_type": "code",
      "metadata": {
        "id": "0KwVC6jopf5F"
      },
      "source": [
        "negative_data_percent = 1\n",
        "\n",
        "negative_train_data = negative_train_data.sample(math.floor(negative_train_data.shape[0] * (negative_data_percent/100)))\n",
        "negative_dev_data = negative_dev_data.sample(math.floor(negative_dev_data.shape[0] * (negative_data_percent/100)))\n",
        "negative_test_data = negative_test_data.sample(math.floor(negative_test_data.shape[0] * (negative_data_percent/100)))"
      ],
      "execution_count": null,
      "outputs": []
    },
    {
      "cell_type": "code",
      "metadata": {
        "colab": {
          "base_uri": "https://localhost:8080/"
        },
        "id": "vE51HgmgrWbu",
        "outputId": "e900060e-f1fb-433b-b415-6625712a4e4f"
      },
      "source": [
        "# trimmed negative data sizes\n",
        "print(f\"Total clips available in Train without wake words {negative_train_data.shape[0]}\")\n",
        "print(f\"Total clips available in Dev without wake words {negative_dev_data.shape[0]}\")\n",
        "print(f\"Total clips available in Test without wake words {negative_test_data.shape[0]}\")"
      ],
      "execution_count": null,
      "outputs": [
        {
          "output_type": "stream",
          "text": [
            "Total clips available in Train without wake words 5632\n",
            "Total clips available in Dev without wake words 161\n",
            "Total clips available in Test without wake words 161\n"
          ],
          "name": "stdout"
        }
      ]
    },
    {
      "cell_type": "markdown",
      "metadata": {
        "id": "Lrmxp0q4xDbZ"
      },
      "source": [
        "## 1.5 Using above prepare data for word alignment"
      ]
    },
    {
      "cell_type": "code",
      "metadata": {
        "id": "fimfjNx1xCOZ"
      },
      "source": [
        "wake_word_datapath = 'D:\\\\GoogleDrive\\\\datasets\\\\hey-fourth-brain'\n",
        "positive_data = \"/positive/audio\"\n",
        "negative_data = \"/negative/audio\""
      ],
      "execution_count": null,
      "outputs": []
    },
    {
      "cell_type": "code",
      "metadata": {
        "id": "efHBr2nz4A3J"
      },
      "source": [
        "Path(wake_word_datapath).mkdir(parents=True, exist_ok=True)"
      ],
      "execution_count": null,
      "outputs": []
    },
    {
      "cell_type": "code",
      "metadata": {
        "id": "gCX8wDh3mY9w"
      },
      "source": [
        "# create postiive & negative dataset folder\n",
        "Path(wake_word_datapath + positive_data).mkdir(parents=True, exist_ok=True)\n",
        "Path(wake_word_datapath + negative_data).mkdir(parents=True, exist_ok=True)"
      ],
      "execution_count": null,
      "outputs": []
    },
    {
      "cell_type": "code",
      "metadata": {
        "id": "iklSKHlNsbX-"
      },
      "source": [
        "# save the dataframes we got from above in each dataset\n",
        "positive_train_data[['path', 'sentence']].to_csv(wake_word_datapath + \"/positive/train.csv\", index=False)\n",
        "positive_dev_data[['path', 'sentence']].to_csv(wake_word_datapath + \"/positive/dev.csv\", index=False)\n",
        "positive_test_data[['path', 'sentence']].to_csv(wake_word_datapath + \"/positive/test.csv\", index=False)\n",
        "\n",
        "negative_train_data[['path', 'sentence']].to_csv(wake_word_datapath  + \"/negative/train.csv\", index=False)\n",
        "negative_dev_data[['path', 'sentence']].to_csv(wake_word_datapath  + \"/negative/dev.csv\", index=False)\n",
        "negative_test_data[['path', 'sentence']].to_csv(wake_word_datapath  + \"/negative/test.csv\", index=False)"
      ],
      "execution_count": null,
      "outputs": []
    },
    {
      "cell_type": "code",
      "metadata": {
        "id": "X1j3csmmvkhh"
      },
      "source": [
        "def save_wav_lab(path, filename, sentence, decibels=40):\n",
        "  # load file \n",
        "  sounddata = librosa.core.load(f\"{common_voice_datapath}/clips/{filename}\", sr=sr, mono=True)[0]\n",
        "  # trim \n",
        "  sounddata = librosa.effects.trim(sounddata, top_db=decibels)[0]  \n",
        "  # save as wav file\n",
        "  soundfile.write(f\"{wake_word_datapath}{path}/{filename.split('.')[0]}.wav\", sounddata, sr)\n",
        "  # write lab file\n",
        "  with open(f\"{wake_word_datapath}{path}/{filename.split('.')[0]}.lab\", \"w\", encoding=\"utf-8\") as f:\n",
        "    f.write(sentence)"
      ],
      "execution_count": null,
      "outputs": []
    },
    {
      "cell_type": "code",
      "metadata": {
        "id": "D4haoirXxhHn"
      },
      "source": [
        "positive_train_data.progress_apply(lambda x: save_wav_lab('/positive/audio', x['path'], x['sentence']), axis=1)\n",
        "positive_dev_data.progress_apply(lambda x: save_wav_lab('/positive/audio', x['path'], x['sentence']), axis=1)\n",
        "positive_test_data.progress_apply(lambda x: save_wav_lab('/positive/audio', x['path'], x['sentence']), axis=1)"
      ],
      "execution_count": null,
      "outputs": []
    },
    {
      "cell_type": "code",
      "metadata": {
        "id": "f0LRNu14ACHg"
      },
      "source": [
        "negative_train_data.progress_apply(lambda x: save_wav_lab(negative_data, x['path'], x['sentence']), axis=1)\n",
        "negative_dev_data.progress_apply(lambda x: save_wav_lab(negative_data, x['path'], x['sentence']), axis=1)\n",
        "negative_test_data.progress_apply(lambda x: save_wav_lab(negative_data, x['path'], x['sentence']), axis=1)"
      ],
      "execution_count": null,
      "outputs": []
    },
    {
      "cell_type": "markdown",
      "metadata": {
        "id": "jko0_KaBAfcy"
      },
      "source": [
        "## 1.6 Do word alignment"
      ]
    },
    {
      "cell_type": "code",
      "metadata": {
        "colab": {
          "base_uri": "https://localhost:8080/"
        },
        "id": "zDCtX4eyF0w7",
        "outputId": "fcaa7c4a-cd9c-49e5-bf52-808f1977f6cb"
      },
      "source": [
        "%cd $wake_word_datapath"
      ],
      "execution_count": null,
      "outputs": [
        {
          "output_type": "stream",
          "text": [
            "D:\\GoogleDrive\\datasets\\hey-fourth-brain\n"
          ],
          "name": "stdout"
        }
      ]
    },
    {
      "cell_type": "code",
      "metadata": {
        "id": "ZhpQYOfvGAWj"
      },
      "source": [
        "aligned_data = \"/aligned_data\"\n",
        "Path(wake_word_datapath + aligned_data).mkdir(parents=True, exist_ok=True)"
      ],
      "execution_count": null,
      "outputs": []
    },
    {
      "cell_type": "code",
      "metadata": {
        "id": "hyN9JfZQAepz"
      },
      "source": [
        "%%bash\n",
        "wget https://github.com/MontrealCorpusTools/Montreal-Forced-Aligner/releases/download/v1.0.1/montreal-forced-aligner_win64.zip\n",
        "unzip montreal-forced-aligner_win64.zip\n",
        "rm -rf montreal-forced-aligner_win64.zip"
      ],
      "execution_count": null,
      "outputs": []
    },
    {
      "cell_type": "code",
      "metadata": {
        "id": "OmY7Wp9tAVa2"
      },
      "source": [
        "# downloading the dictionary \n",
        "%%bash\n",
        "wget https://www.openslr.org/resources/11/librispeech-lexicon.txt"
      ],
      "execution_count": null,
      "outputs": []
    },
    {
      "cell_type": "code",
      "metadata": {
        "colab": {
          "base_uri": "https://localhost:8080/"
        },
        "id": "0Cze8o67bW4y",
        "outputId": "8000e13c-776a-4fb7-d43c-8e1871d9339b"
      },
      "source": [
        "# create aligned data for postive dataset\n",
        "%%cmd\n",
        "montreal-forced-aligner\\bin\\mfa_align -q positive\\audio librispeech-lexicon.txt montreal-forced-aligner\\pretrained_models\\english.zip aligned_data"
      ],
      "execution_count": null,
      "outputs": [
        {
          "output_type": "stream",
          "text": [
            "Microsoft Windows [Version 10.0.19041.1110]\r\n",
            "(c) Microsoft Corporation. All rights reserved.\r\n",
            "\r\n",
            "(base) D:\\GoogleDrive\\datasets\\hey-fourth-brain>montreal-forced-aligner\\bin\\mfa_align -q positive\\audio librispeech-lexicon.txt montreal-forced-aligner\\pretrained_models\\english.zip aligned_data\n",
            "Setting up corpus information...\r\n",
            "Number of speakers in corpus: 1, average number of utterances per speaker: 1184.0\r\n",
            "Creating dictionary information...\r\n",
            "Setting up training data...\r\n",
            "Calculating MFCCs...\r\n",
            "Calculating CMVN...\r\n",
            "Number of speakers in corpus: 1, average number of utterances per speaker: 1184.0\r\n",
            "Done with setup.\r\n",
            "Done! Everything took 453.0202066898346 seconds\r\n",
            "\r\n",
            "(base) D:\\GoogleDrive\\datasets\\hey-fourth-brain>"
          ],
          "name": "stdout"
        },
        {
          "output_type": "stream",
          "text": [
            "\r  0%|          | 0/2 [00:00<?, ?it/s]\r 50%|#####     | 1/2 [01:16<01:16, 76.99s/it]\r100%|##########| 2/2 [02:30<00:00, 75.38s/it]\r\n"
          ],
          "name": "stderr"
        }
      ]
    },
    {
      "cell_type": "markdown",
      "metadata": {
        "id": "3_wOua5GfCot"
      },
      "source": [
        "## 1.7 Get timestamps "
      ]
    },
    {
      "cell_type": "code",
      "metadata": {
        "id": "KBEfnnq_g3oN"
      },
      "source": [
        "def get_timestamps(path):\n",
        "  filename = path.split('/')[-1].split('.')[0]\n",
        "  filepath = f'aligned_data/audio/{filename}.TextGrid'\n",
        "  words_timestamps = {}\n",
        "  if os.path.exists(filepath):\n",
        "    tg = textgrid.TextGrid.fromFile(filepath)\n",
        "    for tg_intvl in range(len(tg[0])):\n",
        "      word = tg[0][tg_intvl].mark\n",
        "      if word:\n",
        "        words_timestamps[word] = {'start': tg[0][tg_intvl].minTime, 'end':  tg[0][tg_intvl].maxTime}\n",
        "  return words_timestamps"
      ],
      "execution_count": null,
      "outputs": []
    },
    {
      "cell_type": "code",
      "metadata": {
        "id": "UTPz2K1Vndah"
      },
      "source": [
        "def get_duration(path):\n",
        "   sounddata = librosa.core.load(path, sr=sr, mono=True)[0]\n",
        "   return sounddata.size / sr * 1000 # ms"
      ],
      "execution_count": null,
      "outputs": []
    },
    {
      "cell_type": "code",
      "metadata": {
        "id": "ijXNvSwDe7Se"
      },
      "source": [
        "positive_train_data = pd.read_csv('positive/train.csv')\n",
        "positive_dev_data = pd.read_csv('positive/dev.csv')\n",
        "positive_test_data = pd.read_csv('positive/test.csv')"
      ],
      "execution_count": null,
      "outputs": []
    },
    {
      "cell_type": "code",
      "metadata": {
        "id": "BlO_Y9vxgN8Q"
      },
      "source": [
        "positive_train_data['path'] = positive_train_data['path'].apply(lambda x: 'positive/audio/'+x.split('.')[0]+'.wav')\n",
        "positive_dev_data['path'] = positive_dev_data['path'].apply(lambda x: 'positive/audio/'+x.split('.')[0]+'.wav')\n",
        "positive_test_data['path'] = positive_test_data['path'].apply(lambda x: 'positive/audio/'+x.split('.')[0]+'.wav')"
      ],
      "execution_count": null,
      "outputs": []
    },
    {
      "cell_type": "code",
      "metadata": {
        "colab": {
          "base_uri": "https://localhost:8080/"
        },
        "id": "WsuAkuGqjHVA",
        "outputId": "3ce576f7-0be9-44b7-b858-149b5a45be9a"
      },
      "source": [
        "positive_train_data['timestamps'] = positive_train_data['path'].progress_apply(get_timestamps)\n",
        "positive_dev_data['timestamps'] = positive_dev_data['path'].progress_apply(get_timestamps)\n",
        "positive_test_data['timestamps'] = positive_test_data['path'].progress_apply(get_timestamps)"
      ],
      "execution_count": null,
      "outputs": [
        {
          "output_type": "stream",
          "text": [
            "100%|██████████████████████████████████████████████████████████████████████████████████████████████████████████████████████████████████████████| 1112/1112 [00:08<00:00, 128.91it/s]\n",
            "100%|██████████████████████████████████████████████████████████████████████████████████████████████████████████████████████████████████████████████| 41/41 [00:00<00:00, 118.16it/s]\n",
            "100%|██████████████████████████████████████████████████████████████████████████████████████████████████████████████████████████████████████████████| 31/31 [00:00<00:00, 119.23it/s]\n"
          ],
          "name": "stderr"
        }
      ]
    },
    {
      "cell_type": "code",
      "metadata": {
        "colab": {
          "base_uri": "https://localhost:8080/"
        },
        "id": "A3aPNsmDt_Fr",
        "outputId": "1dea4bbf-e054-490e-bdd1-69c48915f454"
      },
      "source": [
        "positive_train_data['duration'] = positive_train_data['path'].progress_apply(get_duration)\n",
        "positive_dev_data['duration'] = positive_dev_data['path'].progress_apply(get_duration)\n",
        "positive_test_data['duration'] = positive_test_data['path'].progress_apply(get_duration)"
      ],
      "execution_count": null,
      "outputs": [
        {
          "output_type": "stream",
          "text": [
            "100%|██████████████████████████████████████████████████████████████████████████████████████████████████████████████████████████████████████████| 1112/1112 [00:06<00:00, 180.02it/s]\n",
            "100%|██████████████████████████████████████████████████████████████████████████████████████████████████████████████████████████████████████████████| 41/41 [00:00<00:00, 185.52it/s]\n",
            "100%|██████████████████████████████████████████████████████████████████████████████████████████████████████████████████████████████████████████████| 31/31 [00:00<00:00, 190.19it/s]\n"
          ],
          "name": "stderr"
        }
      ]
    },
    {
      "cell_type": "code",
      "metadata": {
        "colab": {
          "base_uri": "https://localhost:8080/",
          "height": 204
        },
        "id": "bW0qSeuDlVGX",
        "outputId": "f9266225-5fae-4db8-c968-aac32cebf3fc"
      },
      "source": [
        "positive_train_data.head()"
      ],
      "execution_count": null,
      "outputs": [
        {
          "output_type": "execute_result",
          "data": {
            "text/plain": [
              "                                          path  \\\n",
              "0  positive/audio/common_voice_en_20433916.wav   \n",
              "1  positive/audio/common_voice_en_20812859.wav   \n",
              "2  positive/audio/common_voice_en_20851643.wav   \n",
              "3  positive/audio/common_voice_en_18356188.wav   \n",
              "4  positive/audio/common_voice_en_23585349.wav   \n",
              "\n",
              "                                            sentence  \\\n",
              "0  He was decorated with the Order of the Golden ...   \n",
              "1   The fourth candidate is awarded a two-year term.   \n",
              "2  The climax of the event is the fourth day of t...   \n",
              "3              A maddening joy pounded in his brain.   \n",
              "4                             Where d'you live, hey?   \n",
              "\n",
              "                                          timestamps  duration  \n",
              "0  {'he': {'start': 0.0, 'end': 0.18}, 'was': {'s...    5152.0  \n",
              "1  {'the': {'start': 0.0, 'end': 0.09}, 'fourth':...    3328.0  \n",
              "2  {'the': {'start': 2.32, 'end': 2.41}, 'climax'...    3296.0  \n",
              "3  {'a': {'start': 0.26, 'end': 0.41}, 'maddening...    2592.0  \n",
              "4  {'where': {'start': 0.67, 'end': 0.92}, 'd'you...    1984.0  "
            ],
            "text/html": [
              "<div>\n",
              "<style scoped>\n",
              "    .dataframe tbody tr th:only-of-type {\n",
              "        vertical-align: middle;\n",
              "    }\n",
              "\n",
              "    .dataframe tbody tr th {\n",
              "        vertical-align: top;\n",
              "    }\n",
              "\n",
              "    .dataframe thead th {\n",
              "        text-align: right;\n",
              "    }\n",
              "</style>\n",
              "<table border=\"1\" class=\"dataframe\">\n",
              "  <thead>\n",
              "    <tr style=\"text-align: right;\">\n",
              "      <th></th>\n",
              "      <th>path</th>\n",
              "      <th>sentence</th>\n",
              "      <th>timestamps</th>\n",
              "      <th>duration</th>\n",
              "    </tr>\n",
              "  </thead>\n",
              "  <tbody>\n",
              "    <tr>\n",
              "      <th>0</th>\n",
              "      <td>positive/audio/common_voice_en_20433916.wav</td>\n",
              "      <td>He was decorated with the Order of the Golden ...</td>\n",
              "      <td>{'he': {'start': 0.0, 'end': 0.18}, 'was': {'s...</td>\n",
              "      <td>5152.0</td>\n",
              "    </tr>\n",
              "    <tr>\n",
              "      <th>1</th>\n",
              "      <td>positive/audio/common_voice_en_20812859.wav</td>\n",
              "      <td>The fourth candidate is awarded a two-year term.</td>\n",
              "      <td>{'the': {'start': 0.0, 'end': 0.09}, 'fourth':...</td>\n",
              "      <td>3328.0</td>\n",
              "    </tr>\n",
              "    <tr>\n",
              "      <th>2</th>\n",
              "      <td>positive/audio/common_voice_en_20851643.wav</td>\n",
              "      <td>The climax of the event is the fourth day of t...</td>\n",
              "      <td>{'the': {'start': 2.32, 'end': 2.41}, 'climax'...</td>\n",
              "      <td>3296.0</td>\n",
              "    </tr>\n",
              "    <tr>\n",
              "      <th>3</th>\n",
              "      <td>positive/audio/common_voice_en_18356188.wav</td>\n",
              "      <td>A maddening joy pounded in his brain.</td>\n",
              "      <td>{'a': {'start': 0.26, 'end': 0.41}, 'maddening...</td>\n",
              "      <td>2592.0</td>\n",
              "    </tr>\n",
              "    <tr>\n",
              "      <th>4</th>\n",
              "      <td>positive/audio/common_voice_en_23585349.wav</td>\n",
              "      <td>Where d'you live, hey?</td>\n",
              "      <td>{'where': {'start': 0.67, 'end': 0.92}, 'd'you...</td>\n",
              "      <td>1984.0</td>\n",
              "    </tr>\n",
              "  </tbody>\n",
              "</table>\n",
              "</div>"
            ]
          },
          "metadata": {
            "tags": []
          },
          "execution_count": 322
        }
      ]
    },
    {
      "cell_type": "code",
      "metadata": {
        "id": "gHGJIwsxsOyL"
      },
      "source": [
        "negative_train_data = pd.read_csv('negative/train.csv')\n",
        "negative_dev_data = pd.read_csv('negative/dev.csv')\n",
        "negative_test_data = pd.read_csv('negative/test.csv')"
      ],
      "execution_count": null,
      "outputs": []
    },
    {
      "cell_type": "code",
      "metadata": {
        "id": "B2e_g0IivWor"
      },
      "source": [
        "negative_train_data['path'] = negative_train_data['path'].apply(lambda x: 'negative/audio/'+x.split('.')[0]+'.wav')\n",
        "negative_dev_data['path'] = negative_dev_data['path'].apply(lambda x: 'negative/audio/'+x.split('.')[0]+'.wav')\n",
        "negative_test_data['path'] = negative_test_data['path'].apply(lambda x: 'negative/audio/'+x.split('.')[0]+'.wav')"
      ],
      "execution_count": null,
      "outputs": []
    },
    {
      "cell_type": "code",
      "metadata": {
        "colab": {
          "base_uri": "https://localhost:8080/"
        },
        "id": "R17ea4UHvQ2H",
        "outputId": "36095618-e304-4245-d472-7f8f94a6923e"
      },
      "source": [
        "negative_train_data['timestamps'] = negative_train_data['path'].progress_apply(get_timestamps)\n",
        "negative_dev_data['timestamps'] = negative_dev_data['path'].progress_apply(get_timestamps)\n",
        "negative_test_data['timestamps'] = negative_test_data['path'].progress_apply(get_timestamps)\n",
        "\n",
        "negative_train_data['duration'] = negative_train_data['path'].progress_apply(get_duration)\n",
        "negative_dev_data['duration'] = negative_dev_data['path'].progress_apply(get_duration)\n",
        "negative_test_data['duration'] = negative_test_data['path'].progress_apply(get_duration)"
      ],
      "execution_count": null,
      "outputs": [
        {
          "output_type": "stream",
          "text": [
            "100%|████████████████████████████████████████████████████████████████████████████████████████████████████████████████████████████████████████| 5632/5632 [00:00<00:00, 11684.67it/s]\n",
            "100%|██████████████████████████████████████████████████████████████████████████████████████████████████████████████████████████████████████████| 161/161 [00:00<00:00, 10733.09it/s]\n",
            "100%|██████████████████████████████████████████████████████████████████████████████████████████████████████████████████████████████████████████| 161/161 [00:00<00:00, 12384.38it/s]\n",
            "100%|██████████████████████████████████████████████████████████████████████████████████████████████████████████████████████████████████████████| 5632/5632 [00:31<00:00, 178.68it/s]\n",
            "100%|████████████████████████████████████████████████████████████████████████████████████████████████████████████████████████████████████████████| 161/161 [00:00<00:00, 167.71it/s]\n",
            "100%|████████████████████████████████████████████████████████████████████████████████████████████████████████████████████████████████████████████| 161/161 [00:00<00:00, 170.01it/s]\n"
          ],
          "name": "stderr"
        }
      ]
    },
    {
      "cell_type": "code",
      "metadata": {
        "colab": {
          "base_uri": "https://localhost:8080/",
          "height": 204
        },
        "id": "qAVxM_YavyKp",
        "outputId": "cea66424-aefd-44ef-f1b9-3f4aa35c79fe"
      },
      "source": [
        "negative_train_data.head()"
      ],
      "execution_count": null,
      "outputs": [
        {
          "output_type": "execute_result",
          "data": {
            "text/plain": [
              "                                          path  \\\n",
              "0  negative/audio/common_voice_en_19634294.wav   \n",
              "1  negative/audio/common_voice_en_20083776.wav   \n",
              "2  negative/audio/common_voice_en_20089676.wav   \n",
              "3  negative/audio/common_voice_en_21311845.wav   \n",
              "4  negative/audio/common_voice_en_20672291.wav   \n",
              "\n",
              "                                            sentence timestamps  duration  \n",
              "0  He was probably from Corfu and lived in Consta...         {}    5024.0  \n",
              "1  Teia was killed and his brother Aligern surren...         {}    5600.0  \n",
              "2    He is the most decorated ski racer from Norway.         {}    3648.0  \n",
              "3  France and China provided most training to the...         {}    4896.0  \n",
              "4  Both this painting and a small landscape were ...         {}    4160.0  "
            ],
            "text/html": [
              "<div>\n",
              "<style scoped>\n",
              "    .dataframe tbody tr th:only-of-type {\n",
              "        vertical-align: middle;\n",
              "    }\n",
              "\n",
              "    .dataframe tbody tr th {\n",
              "        vertical-align: top;\n",
              "    }\n",
              "\n",
              "    .dataframe thead th {\n",
              "        text-align: right;\n",
              "    }\n",
              "</style>\n",
              "<table border=\"1\" class=\"dataframe\">\n",
              "  <thead>\n",
              "    <tr style=\"text-align: right;\">\n",
              "      <th></th>\n",
              "      <th>path</th>\n",
              "      <th>sentence</th>\n",
              "      <th>timestamps</th>\n",
              "      <th>duration</th>\n",
              "    </tr>\n",
              "  </thead>\n",
              "  <tbody>\n",
              "    <tr>\n",
              "      <th>0</th>\n",
              "      <td>negative/audio/common_voice_en_19634294.wav</td>\n",
              "      <td>He was probably from Corfu and lived in Consta...</td>\n",
              "      <td>{}</td>\n",
              "      <td>5024.0</td>\n",
              "    </tr>\n",
              "    <tr>\n",
              "      <th>1</th>\n",
              "      <td>negative/audio/common_voice_en_20083776.wav</td>\n",
              "      <td>Teia was killed and his brother Aligern surren...</td>\n",
              "      <td>{}</td>\n",
              "      <td>5600.0</td>\n",
              "    </tr>\n",
              "    <tr>\n",
              "      <th>2</th>\n",
              "      <td>negative/audio/common_voice_en_20089676.wav</td>\n",
              "      <td>He is the most decorated ski racer from Norway.</td>\n",
              "      <td>{}</td>\n",
              "      <td>3648.0</td>\n",
              "    </tr>\n",
              "    <tr>\n",
              "      <th>3</th>\n",
              "      <td>negative/audio/common_voice_en_21311845.wav</td>\n",
              "      <td>France and China provided most training to the...</td>\n",
              "      <td>{}</td>\n",
              "      <td>4896.0</td>\n",
              "    </tr>\n",
              "    <tr>\n",
              "      <th>4</th>\n",
              "      <td>negative/audio/common_voice_en_20672291.wav</td>\n",
              "      <td>Both this painting and a small landscape were ...</td>\n",
              "      <td>{}</td>\n",
              "      <td>4160.0</td>\n",
              "    </tr>\n",
              "  </tbody>\n",
              "</table>\n",
              "</div>"
            ]
          },
          "metadata": {
            "tags": []
          },
          "execution_count": 326
        }
      ]
    },
    {
      "cell_type": "code",
      "metadata": {
        "id": "2lXyzll2v1aE"
      },
      "source": [
        "# save above data\n",
        "positive_train_data.to_csv(wake_word_datapath + \"/positive/train.csv\", index=False)\n",
        "positive_dev_data.to_csv(wake_word_datapath + \"/positive/dev.csv\", index=False)\n",
        "positive_test_data.to_csv(wake_word_datapath + \"/positive/test.csv\", index=False)\n",
        "\n",
        "negative_train_data.to_csv(wake_word_datapath  + \"/negative/train.csv\", index=False)\n",
        "negative_dev_data.to_csv(wake_word_datapath  + \"/negative/dev.csv\", index=False)\n",
        "negative_test_data.to_csv(wake_word_datapath  + \"/negative/test.csv\", index=False)"
      ],
      "execution_count": null,
      "outputs": []
    },
    {
      "cell_type": "markdown",
      "metadata": {
        "id": "j2lbszayPugR"
      },
      "source": [
        "# 2.  Load Dataset"
      ]
    },
    {
      "cell_type": "code",
      "metadata": {
        "id": "tzDhWwyiSpWL"
      },
      "source": [
        "wake_word_datapath = 'D:\\\\GoogleDrive\\\\datasets\\\\hey-fourth-brain'"
      ],
      "execution_count": null,
      "outputs": []
    },
    {
      "cell_type": "code",
      "metadata": {
        "colab": {
          "base_uri": "https://localhost:8080/"
        },
        "id": "2kx47qjPm55o",
        "outputId": "b50bbc87-b80f-4762-8b3f-1955e875f9b9"
      },
      "source": [
        "%cd $wake_word_datapath"
      ],
      "execution_count": null,
      "outputs": [
        {
          "output_type": "stream",
          "text": [
            "D:\\GoogleDrive\\datasets\\hey-fourth-brain\n"
          ],
          "name": "stdout"
        }
      ]
    },
    {
      "cell_type": "code",
      "metadata": {
        "colab": {
          "base_uri": "https://localhost:8080/"
        },
        "id": "578QpeqMnDMR",
        "outputId": "cd4e0135-7560-4003-9901-92d3b74f71ff"
      },
      "source": [
        "%ls"
      ],
      "execution_count": null,
      "outputs": [
        {
          "output_type": "stream",
          "text": [
            " Volume in drive D is Data\n",
            " Volume Serial Number is D2ED-5322\n",
            "\n",
            " Directory of D:\\GoogleDrive\\datasets\\hey-fourth-brain\n",
            "\n",
            "08/08/2021  09:20 AM    <DIR>          .\n",
            "08/08/2021  09:20 AM    <DIR>          ..\n",
            "07/27/2021  05:19 PM    <DIR>          aligned_data\n",
            "08/05/2021  04:03 PM    <DIR>          generated\n",
            "07/27/2021  06:43 PM       731,527,583 hey-fourth-brain.rar\n",
            "10/03/2017  01:31 PM         5,627,653 librispeech-lexicon.txt\n",
            "08/09/2021  08:14 AM           736,127 model_hey_fourth_brain.pt\n",
            "04/05/2019  09:00 PM    <DIR>          montreal-forced-aligner\n",
            "07/27/2021  03:04 PM    <DIR>          negative\n",
            "08/07/2021  05:36 PM            24,044 output.wav\n",
            "07/27/2021  03:04 PM    <DIR>          positive\n",
            "07/28/2021  04:24 PM    <DIR>          valid-wake-words\n",
            "08/08/2021  09:20 AM             1,415 zmuv.pt.bin\n",
            "               5 File(s)    737,916,822 bytes\n",
            "               8 Dir(s)  401,976,934,400 bytes free\n"
          ],
          "name": "stdout"
        }
      ]
    },
    {
      "cell_type": "code",
      "metadata": {
        "id": "TezMHymtRGO0"
      },
      "source": [
        "# Dataset checkpoint\n",
        "positive_train_data = pd.read_csv(wake_word_datapath + '/positive/train.csv')\n",
        "positive_dev_data = pd.read_csv(wake_word_datapath + '/positive/dev.csv')\n",
        "positive_test_data = pd.read_csv(wake_word_datapath + '/positive/test.csv')\n",
        "\n",
        "negative_train_data = pd.read_csv(wake_word_datapath + '/negative/train.csv')\n",
        "negative_dev_data = pd.read_csv(wake_word_datapath + '/negative/dev.csv')\n",
        "negative_test_data = pd.read_csv(wake_word_datapath + '/negative/test.csv')"
      ],
      "execution_count": null,
      "outputs": []
    },
    {
      "cell_type": "code",
      "metadata": {
        "colab": {
          "base_uri": "https://localhost:8080/"
        },
        "id": "lO1lfABpwZnV",
        "outputId": "16673346-bcd3-47d8-f2b7-e67f18b359c5"
      },
      "source": [
        "# max duration in positive dataset\n",
        "print(f\"Max duration in positive train {positive_train_data['duration'].max()}\")\n",
        "print(f\"Min duration in positive train {positive_train_data['duration'].min()}\")\n",
        "print(f\"Max duration in positive dev {positive_dev_data['duration'].max()}\")\n",
        "print(f\"Min duration in positive dev {positive_dev_data['duration'].min()}\")\n",
        "print(f\"Max duration in positive test {positive_test_data['duration'].max()}\")\n",
        "print(f\"Min duration in positive test {positive_test_data['duration'].min()}\")"
      ],
      "execution_count": null,
      "outputs": [
        {
          "output_type": "stream",
          "text": [
            "Max duration in positive train 10560.0\n",
            "Min duration in positive train 1504.0\n",
            "Max duration in positive dev 9056.0\n",
            "Min duration in positive dev 1600.0\n",
            "Max duration in positive test 9432.0\n",
            "Min duration in positive test 1248.0\n"
          ],
          "name": "stdout"
        }
      ]
    },
    {
      "cell_type": "code",
      "metadata": {
        "colab": {
          "base_uri": "https://localhost:8080/"
        },
        "id": "YOSeBJIOxK_0",
        "outputId": "792d6ebc-8221-445d-e2fb-f47184ef68fa"
      },
      "source": [
        "print(f\"Max duration in negative train {negative_train_data['duration'].max()}\")\n",
        "print(f\"Min duration in negative train {negative_train_data['duration'].min()}\")\n",
        "print(f\"Max duration in negative dev {negative_dev_data['duration'].max()}\")\n",
        "print(f\"Min duration in negative dev {negative_dev_data['duration'].min()}\")\n",
        "print(f\"Max duration in negative test {negative_test_data['duration'].max()}\")\n",
        "print(f\"Min duration in negative test {negative_test_data['duration'].min()}\")"
      ],
      "execution_count": null,
      "outputs": [
        {
          "output_type": "stream",
          "text": [
            "Max duration in negative train 14376.0\n",
            "Min duration in negative train 896.0\n",
            "Max duration in negative dev 9720.0\n",
            "Min duration in negative dev 1216.0\n",
            "Max duration in negative test 20512.0\n",
            "Min duration in negative test 640.0\n"
          ],
          "name": "stdout"
        }
      ]
    },
    {
      "cell_type": "code",
      "metadata": {
        "id": "pPzUcylczWRp"
      },
      "source": [
        "train_ds = pd.concat([positive_train_data , negative_train_data]).sample(frac=1).reset_index(drop=True)\n",
        "dev_ds = pd.concat([positive_dev_data , negative_dev_data]).sample(frac=1).reset_index(drop=True)\n",
        "test_ds = pd.concat([positive_test_data , negative_test_data]).sample(frac=1).reset_index(drop=True)"
      ],
      "execution_count": null,
      "outputs": []
    },
    {
      "cell_type": "code",
      "metadata": {
        "colab": {
          "base_uri": "https://localhost:8080/"
        },
        "id": "PhDW2D3X1y1G",
        "outputId": "63b755d1-b1d6-461b-dfff-988555a9a01a"
      },
      "source": [
        "train_ds.shape"
      ],
      "execution_count": null,
      "outputs": [
        {
          "output_type": "execute_result",
          "data": {
            "text/plain": [
              "(6744, 4)"
            ]
          },
          "metadata": {
            "tags": []
          },
          "execution_count": 14
        }
      ]
    },
    {
      "cell_type": "code",
      "metadata": {
        "colab": {
          "base_uri": "https://localhost:8080/"
        },
        "id": "ITOWeASY1sQA",
        "outputId": "6b7eb8bf-2508-4ca9-fc41-e121bf3773bb"
      },
      "source": [
        "print(f\"Training dataset size {train_ds.shape}\")\n",
        "print(f\"Validation dataset size {dev_ds.shape}\")\n",
        "print(f\"Test dataset size {test_ds.shape}\")"
      ],
      "execution_count": null,
      "outputs": [
        {
          "output_type": "stream",
          "text": [
            "Training dataset size (6744, 4)\n",
            "Validation dataset size (202, 4)\n",
            "Test dataset size (192, 4)\n"
          ],
          "name": "stdout"
        }
      ]
    },
    {
      "cell_type": "code",
      "metadata": {
        "colab": {
          "base_uri": "https://localhost:8080/"
        },
        "id": "bye4Bs_vRFuW",
        "outputId": "884c745d-47f6-4072-bac6-5abed14677ad"
      },
      "source": [
        "# checking pattern spread on train_ds\n",
        "hey_pattern = re.compile(r'\\bhey\\b', flags=re.IGNORECASE)\n",
        "fourth_pattern = re.compile(r'\\bfourth\\b', flags=re.IGNORECASE)\n",
        "brain_pattern = re.compile(r'\\bbrain\\b', flags=re.IGNORECASE)\n",
        "\n",
        "print(f\"Total hey word {(train_ds[[wake_words_search(hey_pattern, sentence) for sentence in train_ds['sentence']]].size/train_ds.size) * 100} %\")\n",
        "print(f\"Total fourth word {(train_ds[[wake_words_search(fourth_pattern, sentence) for sentence in train_ds['sentence']]].size/train_ds.size) * 100} %\")\n",
        "print(f\"Total brain word {(train_ds[[wake_words_search(brain_pattern, sentence) for sentence in train_ds['sentence']]].size/train_ds.size) * 100} %\")"
      ],
      "execution_count": null,
      "outputs": [
        {
          "output_type": "stream",
          "text": [
            "Total hey word 0.9193357058125742 %\n",
            "Total fourth word 11.728944246737841 %\n",
            "Total brain word 3.855278766310795 %\n"
          ],
          "name": "stdout"
        }
      ]
    },
    {
      "cell_type": "markdown",
      "metadata": {
        "id": "uMQ4AmiamRGt"
      },
      "source": [
        "## Generating Additional data using Google TTS"
      ]
    },
    {
      "cell_type": "code",
      "metadata": {
        "colab": {
          "base_uri": "https://localhost:8080/"
        },
        "id": "yOScZqwXsuC2",
        "outputId": "d6a5a0d6-29ec-4515-ae76-5c1ef8364ffc"
      },
      "source": [
        "%cd $wake_word_datapath"
      ],
      "execution_count": null,
      "outputs": [
        {
          "output_type": "stream",
          "text": [
            "D:\\GoogleDrive\\datasets\\hey-fourth-brain\n"
          ],
          "name": "stdout"
        }
      ]
    },
    {
      "cell_type": "code",
      "metadata": {
        "id": "uukAN1yxtpvj"
      },
      "source": [
        "generated_data = 'generated'\n",
        "Path(f\"{wake_word_datapath}/{generated_data}\").mkdir(parents=True, exist_ok=True)"
      ],
      "execution_count": null,
      "outputs": []
    },
    {
      "cell_type": "code",
      "metadata": {
        "id": "5BaUv6hgmYh3"
      },
      "source": [
        "os.environ[\"GOOGLE_APPLICATION_CREDENTIALS\"]=\"D:\\\\GoogleDrive\\\\Colab\\\\Fourth.Brain\\\\wake_word_detection\\\\first-project-319900-66c3486eaeba.json\""
      ],
      "execution_count": null,
      "outputs": []
    },
    {
      "cell_type": "code",
      "metadata": {
        "id": "8njU2cxDmwFR"
      },
      "source": [
        "from google.cloud import texttospeech\n",
        "# Instantiates a client\n",
        "client = texttospeech.TextToSpeechClient()"
      ],
      "execution_count": null,
      "outputs": []
    },
    {
      "cell_type": "code",
      "metadata": {
        "id": "qX_1fkkRpAdB"
      },
      "source": [
        "import time\n",
        "def generate_voices(word):\n",
        "  Path(f\"{wake_word_datapath}/{generated_data}/{word}\").mkdir(parents=True, exist_ok=True)\n",
        "  # Set the text input to be synthesized\n",
        "  synthesis_input = texttospeech.SynthesisInput(text=word)\n",
        "  # Performs the list voices request\n",
        "  voices = client.list_voices()\n",
        "  # Get english voices\n",
        "  en_voices =  [voice.name for voice in voices.voices if voice.name.split(\"-\")[0] == 'en']\n",
        "  speaking_rates = np.arange(0.25, 4.25, 0.25).tolist()\n",
        "  pitches = np.arange(-10.0, 10.0, 2).tolist() \n",
        "  file_count = 0\n",
        "  start = time.time()\n",
        "\n",
        "  for voi in en_voices:\n",
        "    for sp_rate in speaking_rates:\n",
        "      for pit in pitches:\n",
        "        file_name = f'{wake_word_datapath}/{generated_data}/{word}/{voi}_{sp_rate}_{pit}.wav'\n",
        "        voice = texttospeech.VoiceSelectionParams(language_code=voi[:5], name=voi)\n",
        "        # Select the type of audio file you want returned\n",
        "        audio_config = texttospeech.AudioConfig(\n",
        "            # format of the audio byte stream.\n",
        "            audio_encoding=texttospeech.AudioEncoding.LINEAR16,\n",
        "        \n",
        "            #Speaking rate/speed, in the range [0.25, 4.0]. 1.0 is the normal native speed\n",
        "            speaking_rate=sp_rate,\n",
        "        \n",
        "            #Speaking pitch, in the range [-20.0, 20.0]. 20 means increase 20 semitones from the original pitch. -20 means decrease 20 semitones from the original pitch.\n",
        "            pitch=pit # [-10, -5, 0, 5, 10]\n",
        "        )\n",
        "        response = client.synthesize_speech(\n",
        "          request={\"input\": synthesis_input, \"voice\": voice, \"audio_config\": audio_config}\n",
        "        )\n",
        "        # The response's audio_content is binary.\n",
        "        with open(file_name, \"wb\") as out:\n",
        "            out.write(response.audio_content)\n",
        "            file_count+=1\n",
        "        if file_count%100 == 0:\n",
        "          end = time.time()\n",
        "          print(f\"generated {file_count} files in {end-start} seconds\")"
      ],
      "execution_count": null,
      "outputs": []
    },
    {
      "cell_type": "code",
      "metadata": {
        "colab": {
          "base_uri": "https://localhost:8080/"
        },
        "id": "s-YxYKM-uA6i",
        "outputId": "c1ee4a4f-2d5d-40a1-80aa-694845a2c32c"
      },
      "source": [
        "generate_voices(wake_words[0])"
      ],
      "execution_count": null,
      "outputs": [
        {
          "output_type": "stream",
          "text": [
            "generated 100 files in 11.379350423812866 seconds\n",
            "generated 200 files in 27.808510065078735 seconds\n",
            "generated 300 files in 47.99334931373596 seconds\n",
            "generated 400 files in 67.59245347976685 seconds\n",
            "generated 500 files in 87.64888024330139 seconds\n",
            "generated 600 files in 106.7192370891571 seconds\n",
            "generated 700 files in 124.69506669044495 seconds\n",
            "generated 800 files in 141.73996782302856 seconds\n",
            "generated 900 files in 160.19320607185364 seconds\n",
            "generated 1000 files in 177.92104291915894 seconds\n",
            "generated 1100 files in 195.67321276664734 seconds\n",
            "generated 1200 files in 213.30014038085938 seconds\n",
            "generated 1300 files in 230.77677869796753 seconds\n",
            "generated 1400 files in 248.4106764793396 seconds\n",
            "generated 1500 files in 267.92716455459595 seconds\n",
            "generated 1600 files in 287.4286587238312 seconds\n",
            "generated 1700 files in 307.41148805618286 seconds\n",
            "generated 1800 files in 327.60988426208496 seconds\n",
            "generated 1900 files in 347.1212272644043 seconds\n",
            "generated 2000 files in 367.17731261253357 seconds\n",
            "generated 2100 files in 386.4093110561371 seconds\n",
            "generated 2200 files in 406.3280653953552 seconds\n",
            "generated 2300 files in 426.937557220459 seconds\n",
            "generated 2400 files in 445.8465814590454 seconds\n",
            "generated 2500 files in 464.70365023612976 seconds\n",
            "generated 2600 files in 482.9523215293884 seconds\n",
            "generated 2700 files in 501.01743245124817 seconds\n",
            "generated 2800 files in 519.3293480873108 seconds\n",
            "generated 2900 files in 538.1895470619202 seconds\n",
            "generated 3000 files in 556.5536782741547 seconds\n",
            "generated 3100 files in 575.0540664196014 seconds\n",
            "generated 3200 files in 591.6458330154419 seconds\n",
            "generated 3300 files in 611.4448041915894 seconds\n",
            "generated 3400 files in 630.5835647583008 seconds\n",
            "generated 3500 files in 649.3064911365509 seconds\n",
            "generated 3600 files in 669.1650879383087 seconds\n",
            "generated 3700 files in 685.929518699646 seconds\n",
            "generated 3800 files in 694.231796503067 seconds\n",
            "generated 3900 files in 702.2368366718292 seconds\n",
            "generated 4000 files in 709.8312196731567 seconds\n",
            "generated 4100 files in 717.7612173557281 seconds\n",
            "generated 4200 files in 725.5920865535736 seconds\n",
            "generated 4300 files in 732.8070592880249 seconds\n",
            "generated 4400 files in 740.5753018856049 seconds\n",
            "generated 4500 files in 747.8953046798706 seconds\n",
            "generated 4600 files in 755.181910276413 seconds\n",
            "generated 4700 files in 762.9834597110748 seconds\n",
            "generated 4800 files in 770.9741492271423 seconds\n",
            "generated 4900 files in 778.9163172245026 seconds\n",
            "generated 5000 files in 786.6503036022186 seconds\n",
            "generated 5100 files in 794.5251159667969 seconds\n",
            "generated 5200 files in 802.4020082950592 seconds\n",
            "generated 5300 files in 810.1149234771729 seconds\n",
            "generated 5400 files in 817.3039238452911 seconds\n",
            "generated 5500 files in 824.5362656116486 seconds\n",
            "generated 5600 files in 831.3801872730255 seconds\n",
            "generated 5700 files in 838.5358054637909 seconds\n",
            "generated 5800 files in 845.5885894298553 seconds\n",
            "generated 5900 files in 852.569286108017 seconds\n",
            "generated 6000 files in 860.2130634784698 seconds\n",
            "generated 6100 files in 867.627771615982 seconds\n",
            "generated 6200 files in 874.7857141494751 seconds\n",
            "generated 6300 files in 882.225132226944 seconds\n",
            "generated 6400 files in 889.2173402309418 seconds\n",
            "generated 6500 files in 896.1240355968475 seconds\n",
            "generated 6600 files in 903.5828037261963 seconds\n",
            "generated 6700 files in 910.8138017654419 seconds\n",
            "generated 6800 files in 918.1853737831116 seconds\n",
            "generated 6900 files in 925.784900188446 seconds\n",
            "generated 7000 files in 932.8613851070404 seconds\n",
            "generated 7100 files in 940.5574109554291 seconds\n",
            "generated 7200 files in 948.1287398338318 seconds\n",
            "generated 7300 files in 955.3717498779297 seconds\n"
          ],
          "name": "stdout"
        }
      ]
    },
    {
      "cell_type": "code",
      "metadata": {
        "colab": {
          "base_uri": "https://localhost:8080/"
        },
        "id": "paPuKvcj2FI6",
        "outputId": "a14165f7-b4a2-4894-eae9-f97c0c70425a"
      },
      "source": [
        "generate_voices(wake_words[1])"
      ],
      "execution_count": null,
      "outputs": [
        {
          "output_type": "stream",
          "text": [
            "generated 100 files in 14.005361318588257 seconds\n",
            "generated 200 files in 37.05780220031738 seconds\n",
            "generated 300 files in 56.96768665313721 seconds\n",
            "generated 400 files in 77.58811354637146 seconds\n",
            "generated 500 files in 99.65502309799194 seconds\n",
            "generated 600 files in 121.57290625572205 seconds\n",
            "generated 700 files in 140.7740180492401 seconds\n",
            "generated 800 files in 157.9172396659851 seconds\n",
            "generated 900 files in 175.7209460735321 seconds\n",
            "generated 1000 files in 193.4350118637085 seconds\n",
            "generated 1100 files in 210.5575225353241 seconds\n",
            "generated 1200 files in 228.1162588596344 seconds\n",
            "generated 1300 files in 245.69568824768066 seconds\n",
            "generated 1400 files in 262.80717635154724 seconds\n",
            "generated 1500 files in 283.0793128013611 seconds\n",
            "generated 1600 files in 303.9854214191437 seconds\n",
            "generated 1700 files in 325.745397567749 seconds\n",
            "generated 1800 files in 348.7344081401825 seconds\n",
            "generated 1900 files in 368.15623593330383 seconds\n",
            "generated 2000 files in 388.6067759990692 seconds\n",
            "generated 2100 files in 407.87891125679016 seconds\n",
            "generated 2200 files in 427.15570092201233 seconds\n",
            "generated 2300 files in 447.44640707969666 seconds\n",
            "generated 2400 files in 469.64113903045654 seconds\n",
            "generated 2500 files in 488.3912124633789 seconds\n",
            "generated 2600 files in 507.5060737133026 seconds\n",
            "generated 2700 files in 525.7523052692413 seconds\n",
            "generated 2800 files in 544.2918365001678 seconds\n",
            "generated 2900 files in 562.6935379505157 seconds\n",
            "generated 3000 files in 580.4133195877075 seconds\n",
            "generated 3100 files in 598.5530443191528 seconds\n",
            "generated 3200 files in 615.4289994239807 seconds\n",
            "generated 3300 files in 635.1326668262482 seconds\n",
            "generated 3400 files in 653.9908657073975 seconds\n",
            "generated 3500 files in 672.7414922714233 seconds\n",
            "generated 3600 files in 692.075441122055 seconds\n",
            "generated 3700 files in 709.3581659793854 seconds\n",
            "generated 3800 files in 717.1089181900024 seconds\n",
            "generated 3900 files in 724.9229276180267 seconds\n",
            "generated 4000 files in 732.2229061126709 seconds\n",
            "generated 4100 files in 739.9394199848175 seconds\n",
            "generated 4200 files in 747.5538957118988 seconds\n",
            "generated 4300 files in 754.5994992256165 seconds\n",
            "generated 4400 files in 762.2697916030884 seconds\n",
            "generated 4500 files in 769.7574155330658 seconds\n",
            "generated 4600 files in 777.0984613895416 seconds\n",
            "generated 4700 files in 784.8992583751678 seconds\n",
            "generated 4800 files in 792.6613328456879 seconds\n",
            "generated 4900 files in 800.9285881519318 seconds\n",
            "generated 5000 files in 809.1507122516632 seconds\n",
            "generated 5100 files in 816.7773265838623 seconds\n",
            "generated 5200 files in 825.1057221889496 seconds\n",
            "generated 5300 files in 833.3694732189178 seconds\n",
            "generated 5400 files in 840.74467253685 seconds\n",
            "generated 5500 files in 848.5454204082489 seconds\n",
            "generated 5600 files in 855.6688134670258 seconds\n",
            "generated 5700 files in 862.6973328590393 seconds\n",
            "generated 5800 files in 869.9111888408661 seconds\n",
            "generated 5900 files in 877.1377327442169 seconds\n",
            "generated 6000 files in 886.0475077629089 seconds\n",
            "generated 6100 files in 893.4256639480591 seconds\n",
            "generated 6200 files in 900.5416762828827 seconds\n",
            "generated 6300 files in 907.8930439949036 seconds\n",
            "generated 6400 files in 915.2834715843201 seconds\n",
            "generated 6500 files in 922.9968576431274 seconds\n",
            "generated 6600 files in 930.9200663566589 seconds\n",
            "generated 6700 files in 938.8859438896179 seconds\n",
            "generated 6800 files in 946.8202018737793 seconds\n",
            "generated 6900 files in 954.6674082279205 seconds\n",
            "generated 7000 files in 962.3756821155548 seconds\n",
            "generated 7100 files in 970.5440282821655 seconds\n",
            "generated 7200 files in 977.6230595111847 seconds\n",
            "generated 7300 files in 985.6107995510101 seconds\n"
          ],
          "name": "stdout"
        }
      ]
    },
    {
      "cell_type": "code",
      "metadata": {
        "colab": {
          "base_uri": "https://localhost:8080/"
        },
        "id": "IiD2zTuR4aHi",
        "outputId": "752f99f1-6035-425a-99a5-f2f8a5e664e4"
      },
      "source": [
        "generate_voices(wake_words[2])"
      ],
      "execution_count": null,
      "outputs": [
        {
          "output_type": "stream",
          "text": [
            "generated 100 files in 20.32315468788147 seconds\n",
            "generated 200 files in 41.35329270362854 seconds\n",
            "generated 300 files in 61.08681678771973 seconds\n",
            "generated 400 files in 83.31249952316284 seconds\n",
            "generated 500 files in 103.35321617126465 seconds\n",
            "generated 600 files in 123.97219705581665 seconds\n",
            "generated 700 files in 143.85505294799805 seconds\n",
            "generated 800 files in 161.3559193611145 seconds\n",
            "generated 900 files in 180.31726622581482 seconds\n",
            "generated 1000 files in 198.77269983291626 seconds\n",
            "generated 1100 files in 216.66646885871887 seconds\n",
            "generated 1200 files in 234.80779099464417 seconds\n",
            "generated 1300 files in 253.60817074775696 seconds\n",
            "generated 1400 files in 273.20765709877014 seconds\n",
            "generated 1500 files in 293.3291931152344 seconds\n",
            "generated 1600 files in 313.26748180389404 seconds\n",
            "generated 1700 files in 334.13771963119507 seconds\n",
            "generated 1800 files in 354.31155276298523 seconds\n",
            "generated 1900 files in 374.5053234100342 seconds\n",
            "generated 2000 files in 395.0197603702545 seconds\n",
            "generated 2100 files in 415.02455735206604 seconds\n",
            "generated 2200 files in 434.81477332115173 seconds\n",
            "generated 2300 files in 454.60948395729065 seconds\n",
            "generated 2400 files in 474.7478094100952 seconds\n",
            "generated 2500 files in 494.35345911979675 seconds\n",
            "generated 2600 files in 513.2887308597565 seconds\n",
            "generated 2700 files in 531.4272511005402 seconds\n",
            "generated 2800 files in 550.4636521339417 seconds\n",
            "generated 2900 files in 570.1484677791595 seconds\n",
            "generated 3000 files in 589.3135151863098 seconds\n",
            "generated 3100 files in 608.139732837677 seconds\n",
            "generated 3200 files in 625.8533997535706 seconds\n",
            "generated 3300 files in 670.0762193202972 seconds\n",
            "generated 3400 files in 689.874870300293 seconds\n",
            "generated 3500 files in 709.4351530075073 seconds\n",
            "generated 3600 files in 730.1088409423828 seconds\n",
            "generated 3700 files in 748.7407984733582 seconds\n",
            "generated 3800 files in 757.347806930542 seconds\n",
            "generated 3900 files in 765.4680240154266 seconds\n",
            "generated 4000 files in 773.1670229434967 seconds\n",
            "generated 4100 files in 781.8730261325836 seconds\n",
            "generated 4200 files in 790.2870290279388 seconds\n",
            "generated 4300 files in 798.2151844501495 seconds\n",
            "generated 4400 files in 806.1519610881805 seconds\n",
            "generated 4500 files in 814.0812480449677 seconds\n",
            "generated 4600 files in 821.4321973323822 seconds\n",
            "generated 4700 files in 829.5685124397278 seconds\n",
            "generated 4800 files in 837.179226398468 seconds\n",
            "generated 4900 files in 846.3474991321564 seconds\n",
            "generated 5000 files in 854.4374978542328 seconds\n",
            "generated 5100 files in 862.7655146121979 seconds\n",
            "generated 5200 files in 870.9832479953766 seconds\n",
            "generated 5300 files in 879.225821018219 seconds\n",
            "generated 5400 files in 886.8580539226532 seconds\n",
            "generated 5500 files in 894.6241638660431 seconds\n",
            "generated 5600 files in 901.9864106178284 seconds\n",
            "generated 5700 files in 909.87597489357 seconds\n",
            "generated 5800 files in 917.8724293708801 seconds\n",
            "generated 5900 files in 925.9429371356964 seconds\n",
            "generated 6000 files in 934.077409029007 seconds\n",
            "generated 6100 files in 942.0883672237396 seconds\n",
            "generated 6200 files in 949.2668104171753 seconds\n",
            "generated 6300 files in 957.4178693294525 seconds\n",
            "generated 6400 files in 965.2051455974579 seconds\n",
            "generated 6500 files in 973.2303211688995 seconds\n",
            "generated 6600 files in 981.204941034317 seconds\n",
            "generated 6700 files in 988.7045691013336 seconds\n",
            "generated 6800 files in 996.7426590919495 seconds\n",
            "generated 6900 files in 1004.3097138404846 seconds\n",
            "generated 7000 files in 1012.5467085838318 seconds\n",
            "generated 7100 files in 1021.1313734054565 seconds\n",
            "generated 7200 files in 1028.5495927333832 seconds\n",
            "generated 7300 files in 1036.2984840869904 seconds\n"
          ],
          "name": "stdout"
        }
      ]
    },
    {
      "cell_type": "code",
      "metadata": {
        "id": "O1RZKvYEHrQP"
      },
      "source": [
        "for word in wake_words:\n",
        "  d = {}\n",
        "  d['path'] = [f\"{generated_data}/{word}/{file_name}\" for file_name in os.listdir(f\"{wake_word_datapath}/{generated_data}/{word}\")]\n",
        "  d['sentence'] = [word] * len(d['path'])\n",
        "  pd.DataFrame(data=d).to_csv(f\"{generated_data}/{word}.csv\", index=False)"
      ],
      "execution_count": null,
      "outputs": []
    },
    {
      "cell_type": "code",
      "metadata": {
        "id": "6gTGFcr5ca_W"
      },
      "source": [
        "word_cols = {'path' : [], 'sentence': []}\n",
        "train, dev, test = pd.DataFrame(word_cols), pd.DataFrame(word_cols), pd.DataFrame(word_cols)\n",
        "for word in wake_words:\n",
        "  word_df = pd.read_csv(f\"{generated_data}/{word}.csv\")\n",
        "  tra, val, te =  np.split(word_df.sample(frac=1, random_state=42),  [int(.6*len(word_df)), int(.8*len(word_df))])\n",
        "  train = pd.concat([train , tra]).sample(frac=1).reset_index(drop=True)\n",
        "  dev = pd.concat([dev , val]).sample(frac=1).reset_index(drop=True)\n",
        "  test = pd.concat([test , te]).sample(frac=1).reset_index(drop=True)\n",
        "\n",
        "train.to_csv(f\"{generated_data}/train.csv\", index=False)\n",
        "dev.to_csv(f\"{generated_data}/dev.csv\", index=False)\n",
        "test.to_csv(f\"{generated_data}/test.csv\", index=False)"
      ],
      "execution_count": null,
      "outputs": []
    },
    {
      "cell_type": "code",
      "metadata": {
        "id": "tAcA1FuEM7IA"
      },
      "source": [
        "# add dummy values for these columns for generated data\n",
        "train['timestamps'] = ''\n",
        "train['duration'] = ''\n",
        "\n",
        "dev['timestamps'] = ''\n",
        "dev['duration'] = ''\n",
        "\n",
        "test['timestamps'] = ''\n",
        "test['duration'] = ''"
      ],
      "execution_count": null,
      "outputs": []
    },
    {
      "cell_type": "markdown",
      "metadata": {
        "id": "Beyv4DYxLgtG"
      },
      "source": [
        "## Combine Generated dataset"
      ]
    },
    {
      "cell_type": "code",
      "metadata": {
        "id": "EFqKJnDSLeu5"
      },
      "source": [
        "train_ds = pd.concat([train_ds , train]).sample(frac=1).reset_index(drop=True)\n",
        "dev_ds = pd.concat([dev_ds , dev]).sample(frac=1).reset_index(drop=True)\n",
        "test_ds = pd.concat([test_ds , test]).sample(frac=1).reset_index(drop=True)"
      ],
      "execution_count": null,
      "outputs": []
    },
    {
      "cell_type": "code",
      "metadata": {
        "colab": {
          "base_uri": "https://localhost:8080/"
        },
        "id": "FOHUYuLEOd0T",
        "outputId": "72467ed5-8ad9-493b-a826-9547f621481b"
      },
      "source": [
        "train_ds.shape"
      ],
      "execution_count": null,
      "outputs": [
        {
          "output_type": "execute_result",
          "data": {
            "text/plain": [
              "(19992, 4)"
            ]
          },
          "metadata": {
            "tags": []
          },
          "execution_count": 75
        }
      ]
    },
    {
      "cell_type": "code",
      "metadata": {
        "colab": {
          "base_uri": "https://localhost:8080/"
        },
        "id": "37xdRjYKOg6r",
        "outputId": "05dd163a-54d8-41f8-d5d9-3d95411f3dc2"
      },
      "source": [
        "print(f\"Training dataset size {train_ds.shape}\")\n",
        "print(f\"Validation dataset size {dev_ds.shape}\")\n",
        "print(f\"Test dataset size {test_ds.shape}\")"
      ],
      "execution_count": null,
      "outputs": [
        {
          "output_type": "stream",
          "text": [
            "Training dataset size (19992, 4)\n",
            "Validation dataset size (4618, 4)\n",
            "Test dataset size (4608, 4)\n"
          ],
          "name": "stdout"
        }
      ]
    },
    {
      "cell_type": "code",
      "metadata": {
        "colab": {
          "base_uri": "https://localhost:8080/"
        },
        "id": "d-1-4yJSOnyt",
        "outputId": "2d6f9be5-303c-42e4-febd-36835160b63b"
      },
      "source": [
        "# now verify how much data we have for train set\n",
        "print(f\"Total hey word {(train_ds[[wake_words_search(hey_pattern, sentence) for sentence in train_ds['sentence']]].size/train_ds.size) * 100} %\")\n",
        "print(f\"Total fourth word {(train_ds[[wake_words_search(fourth_pattern, sentence) for sentence in train_ds['sentence']]].size/train_ds.size) * 100} %\")\n",
        "print(f\"Total brain word {(train_ds[[wake_words_search(brain_pattern, sentence) for sentence in train_ds['sentence']]].size/train_ds.size) * 100} %\")"
      ],
      "execution_count": null,
      "outputs": [
        {
          "output_type": "stream",
          "text": [
            "Total hey word 22.398959583833534 %\n",
            "Total fourth word 26.04541816726691 %\n",
            "Total brain word 23.389355742296917 %\n"
          ],
          "name": "stdout"
        }
      ]
    },
    {
      "cell_type": "code",
      "metadata": {
        "id": "QSNL--URyj8C"
      },
      "source": [
        "key_pattern = re.compile(\"\\'(?P<k>[^ ]+)\\'\")\n",
        "def compute_labels(metadata, audio_data):\n",
        "  label = len(wake_words) # by default negative label\n",
        "\n",
        "  # if it is generated data then \n",
        "  if metadata['sentence'].lower() in wake_words:\n",
        "    label = int(wake_word_seq_map[metadata['sentence'].lower()])\n",
        "  else:\n",
        "    # if the sentence has one wakeword get label and end timestamp\n",
        "    for word in metadata['sentence'].lower().split():\n",
        "      wake_word_found = False\n",
        "      word = re.sub('\\W+', '', word)\n",
        "      if word in wake_words:\n",
        "        wake_word_found = True\n",
        "        break\n",
        "  \n",
        "    if wake_word_found:\n",
        "      label = int(wake_word_seq_map[word])\n",
        "      if word in  metadata['timestamps']:\n",
        "        timestamps = metadata['timestamps']\n",
        "        if type(timestamps) == str:\n",
        "          timestamps = json.loads(key_pattern.sub(r'\"\\g<k>\"', timestamps))\n",
        "        word_ts = timestamps[word]\n",
        "        audio_start_idx = int((word_ts['start'] * 1000) * sr / 1000)\n",
        "        audio_end_idx = int((word_ts['end'] * 1000) * sr / 1000)\n",
        "        audio_data = audio_data[audio_start_idx:audio_end_idx]\n",
        "      else: # if there are issues with word alignment, we might not get ts\n",
        "        label = len(wake_words)  # mark them for negative\n",
        "\n",
        "  return label, audio_data"
      ],
      "execution_count": null,
      "outputs": []
    },
    {
      "cell_type": "code",
      "metadata": {
        "id": "mmWRwG2G2TbT"
      },
      "source": [
        "def process_batch(batch):\n",
        "  batch_tensor = {}\n",
        "  window_size_ms = 750\n",
        "  max_length = int(window_size_ms/1000 * sr)\n",
        "  audio_tensors = []\n",
        "  labels = []\n",
        "  for sample in batch:\n",
        "    # get audio_data in tensor format\n",
        "    audio_data = librosa.core.load(sample['path'], sr=sr, mono=True)[0]\n",
        "    # get the label and its audio\n",
        "    label, audio_data = compute_labels(sample, audio_data)\n",
        "    audio_data_length = audio_data.size / sr * 1000 #ms\n",
        "\n",
        "    # below is to make sure that we always got length of 12000 \n",
        "    # i.e 750 ms with sr 16000\n",
        "    # trim to max_length\n",
        "    if audio_data_length > window_size_ms:\n",
        "      # randomly trim either at start and end\n",
        "      if random.random() < 0.5:\n",
        "        audio_data = audio_data[:max_length]\n",
        "      else:\n",
        "        audio_data = audio_data[audio_data.size-max_length:]\n",
        "\n",
        "    # pad with zeros\n",
        "    if audio_data_length < window_size_ms:\n",
        "      # randomly either append or prepend\n",
        "      if random.random() < 0.5:\n",
        "        audio_data = np.append(audio_data, np.zeros(int(max_length - audio_data.size)))\n",
        "      else:\n",
        "        audio_data = np.append(np.zeros(int(max_length - audio_data.size)), audio_data)\n",
        "\n",
        "    audio_tensors.append(torch.from_numpy(audio_data))\n",
        "    labels.append(label)\n",
        "\n",
        "  batch_tensor = {\n",
        "      'audio': torch.stack(audio_tensors),\n",
        "      'labels': torch.tensor(labels) \n",
        "  }\n",
        "  \n",
        "  return batch_tensor"
      ],
      "execution_count": null,
      "outputs": []
    },
    {
      "cell_type": "code",
      "metadata": {
        "id": "gqWvI10j2ISc"
      },
      "source": [
        "batch_size = 16\n",
        "num_workers = 0\n",
        "\n",
        "train_dl = tud.DataLoader(train_ds.to_dict(orient='records'),\n",
        "                  batch_size=batch_size,\n",
        "                  drop_last=True,\n",
        "                  shuffle=True,\n",
        "                  num_workers=num_workers,\n",
        "                  collate_fn=process_batch)\n",
        "\n",
        "dev_dl = tud.DataLoader(dev_ds.to_dict(orient='records'),\n",
        "                  batch_size=batch_size,\n",
        "                  num_workers=num_workers,\n",
        "                  collate_fn=process_batch)\n",
        "\n",
        "test_dl = tud.DataLoader(test_ds.to_dict(orient='records'),\n",
        "                  batch_size=batch_size,\n",
        "                  num_workers=num_workers,\n",
        "                  collate_fn=process_batch)\n",
        "\n",
        "zmuv_dl = tud.DataLoader(train_ds.to_dict(orient='records'),\n",
        "                  batch_size=1,\n",
        "                  num_workers=num_workers,\n",
        "                  collate_fn=process_batch)"
      ],
      "execution_count": null,
      "outputs": []
    },
    {
      "cell_type": "markdown",
      "metadata": {
        "id": "-VxG3S-PU5J2"
      },
      "source": [
        "# 3. Model Architecture"
      ]
    },
    {
      "cell_type": "code",
      "metadata": {
        "id": "ahXb_n5LU05Y"
      },
      "source": [
        "class CNN(nn.Module):\n",
        "    def __init__(self, num_labels, num_maps1, num_maps2, num_hidden_input, hidden_size):\n",
        "        super(CNN, self).__init__()\n",
        "        conv0 = nn.Conv2d(1, num_maps1, (8, 16), padding=(4, 0), stride=(2, 2), bias=True)\n",
        "        pool = nn.MaxPool2d(2)\n",
        "        conv1 = nn.Conv2d(num_maps1, num_maps2, (5, 5), padding=2, stride=(2, 1), bias=True)\n",
        "        self.encoder1 = nn.Sequential(conv0,\n",
        "                                      nn.ReLU(),\n",
        "                                      pool,\n",
        "                                      nn.BatchNorm2d(num_maps1, affine=True))\n",
        "        self.encoder2 = nn.Sequential(conv1,\n",
        "                                      nn.ReLU(),\n",
        "                                      pool,\n",
        "                                      nn.BatchNorm2d(num_maps2, affine=True))\n",
        "        self.output = nn.Sequential(nn.Linear(num_hidden_input, hidden_size),\n",
        "                                    nn.ReLU(),\n",
        "                                    nn.Dropout(0.1),\n",
        "                                    nn.Linear(hidden_size, num_labels))\n",
        "\n",
        "    def forward(self, x):\n",
        "        x = x[:, :1] # log_mels only\n",
        "        x = x.permute(0, 1, 3, 2)  # (time, n_mels)\n",
        "        # pass through first conv layer\n",
        "        x1 = self.encoder1(x)\n",
        "        # pass through second conv layer\n",
        "        x2 = self.encoder2(x1)\n",
        "        # flattening - keep first dim batch same, flatten last 3 dims\n",
        "        x2 = x2.view(x2.size(0), x2.size(1), -1)\n",
        "        x = x2.view(x2.size(0), -1)\n",
        "        return self.output(x)"
      ],
      "execution_count": null,
      "outputs": []
    },
    {
      "cell_type": "code",
      "metadata": {
        "id": "BqI3EqBQNAAp"
      },
      "source": [
        "class CNN_Cal(nn.Module):\n",
        "    def __init__(self, num_labels, num_maps1, num_maps2, num_hidden_input, hidden_size):\n",
        "        super(CNN_Cal, self).__init__()\n",
        "        conv0 = nn.Conv2d(1, num_maps1, (8, 16), padding=(4, 0), stride=(2, 2), bias=True)\n",
        "        pool = nn.MaxPool2d(2)\n",
        "        conv1 = nn.Conv2d(num_maps1, num_maps2, (5, 5), padding=2, stride=(2, 1), bias=True)\n",
        "        self.encoder1 = nn.Sequential(conv0,\n",
        "                                      nn.ReLU(),\n",
        "                                      pool,\n",
        "                                      nn.BatchNorm2d(num_maps1, affine=True))\n",
        "        self.encoder2 = nn.Sequential(conv1,\n",
        "                                      nn.ReLU(),\n",
        "                                      pool,\n",
        "                                      nn.BatchNorm2d(num_maps2, affine=True))\n",
        "\n",
        "    def forward(self, x):\n",
        "        x = x[:, :1] # log_mels only\n",
        "        x = x.permute(0, 1, 3, 2)  # change to (time, n_mels)\n",
        "        # pass through first conv layer\n",
        "        x1 = self.encoder1(x)\n",
        "        # pass through second conv layer\n",
        "        x2 = self.encoder2(x1)\n",
        "        # flattening - keep first dim batch same, flatten last 3 dims\n",
        "        x = x2.view(x2.size(0), -1)\n",
        "        return x"
      ],
      "execution_count": null,
      "outputs": []
    },
    {
      "cell_type": "code",
      "metadata": {
        "id": "K8LCBJj3VR2S"
      },
      "source": [
        "num_labels = len(wake_words) + 1 # oov\n",
        "num_maps1  = 48\n",
        "num_maps2  = 64\n",
        "num_hidden_input =  768\n",
        "hidden_size = 128\n",
        "model = CNN(num_labels, num_maps1, num_maps2, num_hidden_input, hidden_size)"
      ],
      "execution_count": null,
      "outputs": []
    },
    {
      "cell_type": "code",
      "metadata": {
        "colab": {
          "base_uri": "https://localhost:8080/"
        },
        "id": "QeF7sjasVapS",
        "outputId": "a363bef7-8d3d-425d-d46d-8fca461153e5"
      },
      "source": [
        "device = torch.device(\"cuda:0\" if torch.cuda.is_available() else \"cpu\")\n",
        "model.to(device)\n",
        "model"
      ],
      "execution_count": null,
      "outputs": [
        {
          "output_type": "execute_result",
          "data": {
            "text/plain": [
              "CNN(\n",
              "  (encoder1): Sequential(\n",
              "    (0): Conv2d(1, 48, kernel_size=(8, 16), stride=(2, 2), padding=(4, 0))\n",
              "    (1): ReLU()\n",
              "    (2): MaxPool2d(kernel_size=2, stride=2, padding=0, dilation=1, ceil_mode=False)\n",
              "    (3): BatchNorm2d(48, eps=1e-05, momentum=0.1, affine=True, track_running_stats=True)\n",
              "  )\n",
              "  (encoder2): Sequential(\n",
              "    (0): Conv2d(48, 64, kernel_size=(5, 5), stride=(2, 1), padding=(2, 2))\n",
              "    (1): ReLU()\n",
              "    (2): MaxPool2d(kernel_size=2, stride=2, padding=0, dilation=1, ceil_mode=False)\n",
              "    (3): BatchNorm2d(64, eps=1e-05, momentum=0.1, affine=True, track_running_stats=True)\n",
              "  )\n",
              "  (output): Sequential(\n",
              "    (0): Linear(in_features=768, out_features=128, bias=True)\n",
              "    (1): ReLU()\n",
              "    (2): Dropout(p=0.1, inplace=False)\n",
              "    (3): Linear(in_features=128, out_features=4, bias=True)\n",
              "  )\n",
              ")"
            ]
          },
          "metadata": {
            "tags": []
          },
          "execution_count": 26
        }
      ]
    },
    {
      "cell_type": "code",
      "metadata": {
        "colab": {
          "base_uri": "https://localhost:8080/"
        },
        "id": "GSILlGIFNJvd",
        "outputId": "d880dda3-aab3-4746-d55d-69ed3f134868"
      },
      "source": [
        "num_labels = len(wake_words) + 1 # oov\n",
        "num_maps1  = 48\n",
        "num_maps2  = 64\n",
        "num_hidden_input =  768\n",
        "hidden_size = 128\n",
        "model_calc = CNN_Cal(num_labels, num_maps1, num_maps2, num_hidden_input, hidden_size)\n",
        "device = torch.device(\"cuda:0\" if torch.cuda.is_available() else \"cpu\")\n",
        "model_calc.to(device)\n",
        "model_calc"
      ],
      "execution_count": null,
      "outputs": [
        {
          "output_type": "execute_result",
          "data": {
            "text/plain": [
              "CNN_Cal(\n",
              "  (encoder1): Sequential(\n",
              "    (0): Conv2d(1, 48, kernel_size=(8, 16), stride=(2, 2), padding=(4, 0))\n",
              "    (1): ReLU()\n",
              "    (2): MaxPool2d(kernel_size=2, stride=2, padding=0, dilation=1, ceil_mode=False)\n",
              "    (3): BatchNorm2d(48, eps=1e-05, momentum=0.1, affine=True, track_running_stats=True)\n",
              "  )\n",
              "  (encoder2): Sequential(\n",
              "    (0): Conv2d(48, 64, kernel_size=(5, 5), stride=(2, 1), padding=(2, 2))\n",
              "    (1): ReLU()\n",
              "    (2): MaxPool2d(kernel_size=2, stride=2, padding=0, dilation=1, ceil_mode=False)\n",
              "    (3): BatchNorm2d(64, eps=1e-05, momentum=0.1, affine=True, track_running_stats=True)\n",
              "  )\n",
              ")"
            ]
          },
          "metadata": {
            "tags": []
          },
          "execution_count": 86
        }
      ]
    },
    {
      "cell_type": "code",
      "metadata": {
        "colab": {
          "base_uri": "https://localhost:8080/"
        },
        "id": "FtlJdCZJNkDa",
        "outputId": "e8f4da9e-0cff-4451-c33f-363e33678081"
      },
      "source": [
        "summary(model_calc, input_size=(1,80,61))"
      ],
      "execution_count": null,
      "outputs": [
        {
          "output_type": "stream",
          "text": [
            "----------------------------------------------------------------\n",
            "        Layer (type)               Output Shape         Param #\n",
            "================================================================\n",
            "            Conv2d-1           [-1, 48, 31, 33]           6,192\n",
            "              ReLU-2           [-1, 48, 31, 33]               0\n",
            "         MaxPool2d-3           [-1, 48, 15, 16]               0\n",
            "         MaxPool2d-4           [-1, 48, 15, 16]               0\n",
            "       BatchNorm2d-5           [-1, 48, 15, 16]              96\n",
            "            Conv2d-6            [-1, 64, 8, 16]          76,864\n",
            "              ReLU-7            [-1, 64, 8, 16]               0\n",
            "         MaxPool2d-8             [-1, 64, 4, 8]               0\n",
            "         MaxPool2d-9             [-1, 64, 4, 8]               0\n",
            "      BatchNorm2d-10             [-1, 64, 4, 8]             128\n",
            "================================================================\n",
            "Total params: 83,280\n",
            "Trainable params: 83,280\n",
            "Non-trainable params: 0\n",
            "----------------------------------------------------------------\n",
            "Input size (MB): 0.02\n",
            "Forward/backward pass size (MB): 1.18\n",
            "Params size (MB): 0.32\n",
            "Estimated Total Size (MB): 1.52\n",
            "----------------------------------------------------------------\n"
          ],
          "name": "stdout"
        }
      ]
    },
    {
      "cell_type": "code",
      "metadata": {
        "colab": {
          "base_uri": "https://localhost:8080/"
        },
        "id": "Y-vTecMpPqvJ",
        "outputId": "e6daccb1-5e93-44d1-ece8-4c584c5224ff"
      },
      "source": [
        "summary(model, input_size=(1,40,61))"
      ],
      "execution_count": null,
      "outputs": [
        {
          "output_type": "stream",
          "text": [
            "----------------------------------------------------------------\n",
            "        Layer (type)               Output Shape         Param #\n",
            "================================================================\n",
            "            Conv2d-1           [-1, 48, 31, 13]           6,192\n",
            "              ReLU-2           [-1, 48, 31, 13]               0\n",
            "         MaxPool2d-3            [-1, 48, 15, 6]               0\n",
            "         MaxPool2d-4            [-1, 48, 15, 6]               0\n",
            "       BatchNorm2d-5            [-1, 48, 15, 6]              96\n",
            "            Conv2d-6             [-1, 64, 8, 6]          76,864\n",
            "              ReLU-7             [-1, 64, 8, 6]               0\n",
            "         MaxPool2d-8             [-1, 64, 4, 3]               0\n",
            "         MaxPool2d-9             [-1, 64, 4, 3]               0\n",
            "      BatchNorm2d-10             [-1, 64, 4, 3]             128\n",
            "           Linear-11                  [-1, 128]          98,432\n",
            "             ReLU-12                  [-1, 128]               0\n",
            "          Dropout-13                  [-1, 128]               0\n",
            "           Linear-14                    [-1, 4]             516\n",
            "================================================================\n",
            "Total params: 182,228\n",
            "Trainable params: 182,228\n",
            "Non-trainable params: 0\n",
            "----------------------------------------------------------------\n",
            "Input size (MB): 0.01\n",
            "Forward/backward pass size (MB): 0.46\n",
            "Params size (MB): 0.70\n",
            "Estimated Total Size (MB): 1.17\n",
            "----------------------------------------------------------------\n"
          ],
          "name": "stdout"
        }
      ]
    },
    {
      "cell_type": "markdown",
      "metadata": {
        "id": "Q9WhkZvohGaZ"
      },
      "source": [
        "## Calculate Zero Mean Unite Variance (zmuv)"
      ]
    },
    {
      "cell_type": "code",
      "metadata": {
        "id": "yn4B0Xt1eY7t"
      },
      "source": [
        "from typing import Iterable\n",
        "class ZmuvTransform(nn.Module):\n",
        "    def __init__(self):\n",
        "        super().__init__()\n",
        "        self.register_buffer('total', torch.zeros(1))\n",
        "        self.register_buffer('mean', torch.zeros(1))\n",
        "        self.register_buffer('mean2', torch.zeros(1))\n",
        "\n",
        "    def update(self, data, mask=None):\n",
        "        with torch.no_grad():\n",
        "            if mask is not None:\n",
        "                data = data * mask\n",
        "                mask_size = mask.sum().item()\n",
        "            else:\n",
        "                mask_size = data.numel()\n",
        "            self.mean = (data.sum() + self.mean * self.total) / (self.total + mask_size)\n",
        "            self.mean2 = ((data ** 2).sum() + self.mean2 * self.total) / (self.total + mask_size)\n",
        "            self.total += mask_size\n",
        "\n",
        "    def initialize(self, iterable: Iterable[torch.Tensor]):\n",
        "        for ex in iterable:\n",
        "            self.update(ex)\n",
        "\n",
        "    @property\n",
        "    def std(self):\n",
        "        return (self.mean2 - self.mean ** 2).sqrt()\n",
        "\n",
        "    def forward(self, x):\n",
        "        return (x - self.mean) / self.std"
      ],
      "execution_count": null,
      "outputs": []
    },
    {
      "cell_type": "code",
      "metadata": {
        "id": "rwpweWrHe6XR"
      },
      "source": [
        "zmuv_transform = ZmuvTransform().to(device)\n",
        "if Path(\"zmuv.pt.bin\").exists():\n",
        "    zmuv_transform.load_state_dict(torch.load(str(\"zmuv.pt.bin\")))\n",
        "else:\n",
        "  for idx, batch in enumerate(tqdm(zmuv_dl, desc=\"Constructing ZMUV\")):\n",
        "    zmuv_transform.update(batch['audio'].to(device))\n",
        "  print(dict(zmuv_mean=zmuv_transform.mean, zmuv_std=zmuv_transform.std))\n",
        "  torch.save(zmuv_transform.state_dict(), str(\"zmuv.pt.bin\"))"
      ],
      "execution_count": null,
      "outputs": []
    },
    {
      "cell_type": "code",
      "metadata": {
        "id": "no7h42hqVfEX"
      },
      "source": [
        "learning_rate = 0.001\n",
        "weight_decay = 0.0\n",
        "lr_decay = 0.75\n",
        "\n",
        "criterion = nn.CrossEntropyLoss()\n",
        "params = list(filter(lambda x: x.requires_grad, model.parameters()))\n",
        "optimizer = AdamW(params, learning_rate, weight_decay=weight_decay)"
      ],
      "execution_count": null,
      "outputs": []
    },
    {
      "cell_type": "code",
      "metadata": {
        "id": "RgRls5o6F7Ot"
      },
      "source": [
        "num_mels = 40 # https://en.wikipedia.org/wiki/Mel_scale\n",
        "num_fft = 512 # window length - Fast Fourier Transform\n",
        "hop_length = 200  # making hops of size hop_length each time to sample the next window\n",
        "def audio_transform(audio_data):\n",
        "  # Transformations\n",
        "  # Mel-scale spectrogram is a combination of Spectrogram and mel scale conversion\n",
        "  # 1. compute FFT - for each window to transform from time domain to frequency domain\n",
        "  # 2. Generate Mel Scale - Take entire freq spectrum & seperate to n_mels evenly spaced\n",
        "  #    frequencies. (not by distance on freq domain but distance as it is heard by human ear)\n",
        "  # 3. Generate Spectrogram - For each window, decompose the magnitude of the signal\n",
        "  #    into its components, corresponding to the frequencies in the mel scale. \n",
        "  mel_spectrogram  = MelSpectrogram(n_mels=num_mels,\n",
        "                                    sample_rate=sr,\n",
        "                                    n_fft=num_fft,\n",
        "                                    hop_length=hop_length)\n",
        "  mel_spectrogram.to(device)\n",
        "  log_mels = mel_spectrogram(audio_data.float()).add_(1e-7).log_().contiguous()\n",
        "  # returns (channel, n_mels, time) \n",
        "\n",
        "  compute_deltas = ComputeDeltas()\n",
        "\n",
        "  #Compute delta coefficients of a tensor, usually a spectrogram.\n",
        "  #Tensor of deltas of dimension (…, freq, time).\n",
        "  deltas = compute_deltas(log_mels)\n",
        "  accels = compute_deltas(deltas)\n",
        "  return torch.stack((log_mels, deltas, accels), 1).to(device)\n"
      ],
      "execution_count": null,
      "outputs": []
    },
    {
      "cell_type": "markdown",
      "metadata": {
        "id": "9QtUNnAfA2_r"
      },
      "source": [
        "# 4. Training"
      ]
    },
    {
      "cell_type": "code",
      "metadata": {
        "colab": {
          "base_uri": "https://localhost:8080/",
          "height": 783
        },
        "id": "p2dNTtwLXVUc",
        "outputId": "097ae3d5-9b53-4c31-e5ad-b9e444553cb3"
      },
      "source": [
        "epochs = 20\n",
        "\n",
        "# config for progress bar\n",
        "mb = master_bar(range(epochs))\n",
        "mb.names = ['Training loss', 'Validation loss']\n",
        "x = []\n",
        "\n",
        "training_losses = []\n",
        "validation_losses = []\n",
        "\n",
        "for epoch in mb:\n",
        "  x.append(epoch)\n",
        "  # Evaluate\n",
        "  model.train()\n",
        "  total_loss = torch.Tensor([0.0]).to(device)\n",
        "  #pbar = tqdm(train_dl, total=len(train_dl), position=0, desc=\"Training\", leave=True)\n",
        "  for batch in progress_bar(train_dl, parent=mb):\n",
        "    audio_data = batch['audio'].to(device)\n",
        "    labels = batch['labels'].to(device)\n",
        "    # get mel spectograms\n",
        "    mel_audio_data = audio_transform(audio_data)\n",
        "    # do zmuv transform\n",
        "    mel_audio_data = zmuv_transform(mel_audio_data)\n",
        "    predicted_scores = model(mel_audio_data)\n",
        "    # get loss\n",
        "    loss = criterion(predicted_scores, labels)\n",
        "\n",
        "    optimizer.zero_grad()\n",
        "    model.zero_grad()\n",
        "\n",
        "    # backward propagation\n",
        "    loss.backward()\n",
        "    optimizer.step()\n",
        "\n",
        "    with torch.no_grad():\n",
        "        total_loss += loss\n",
        "      \n",
        "  for group in optimizer.param_groups:\n",
        "    group[\"lr\"] *= lr_decay\n",
        "\n",
        "  mean = total_loss / len(train_dl)\n",
        "  training_losses.append(mean.cpu())\n",
        "  \n",
        "  # Evaluate  \n",
        "  model.eval()\n",
        "  validation_loss = torch.Tensor([0.0]).to(device)\n",
        "  with torch.no_grad():\n",
        "    #pbar = tqdm(dev_dl, total=len(dev_dl), position=0, desc=\"Evaluating\", leave=True)\n",
        "    for batch in progress_bar(dev_dl, parent=mb):\n",
        "      audio_data = batch['audio'].to(device)\n",
        "      labels = batch['labels'].to(device)\n",
        "      # get mel spectograms\n",
        "      mel_audio_data = audio_transform(audio_data)\n",
        "      # do zmuv transform\n",
        "      mel_audio_data = zmuv_transform(mel_audio_data)\n",
        "      predicted_scores = model(mel_audio_data)\n",
        "      # get loss\n",
        "      loss = criterion(predicted_scores, labels)\n",
        "      validation_loss += loss\n",
        "\n",
        "  val_mean = validation_loss / len(dev_dl)\n",
        "  validation_losses.append(val_mean.cpu())\n",
        "\n",
        "  # Update training chart\n",
        "  mb.update_graph([[x, training_losses], [x, validation_losses]], [0,epochs])\n",
        "  mb.write(f\"\\nEpoch {epoch}: Training loss {mean.item()} validation loss {val_mean.item()} with lr {group['lr']}\")"
      ],
      "execution_count": null,
      "outputs": [
        {
          "output_type": "display_data",
          "data": {
            "text/plain": [
              "<IPython.core.display.HTML object>"
            ],
            "text/html": [
              "\n",
              "Epoch 0: Training loss 0.11306388676166534 validation loss 0.012123537249863148 with lr 0.00075<p>\n",
              "Epoch 1: Training loss 0.03122769668698311 validation loss 0.008559869602322578 with lr 0.0005625000000000001<p>\n",
              "Epoch 2: Training loss 0.018234187737107277 validation loss 0.020426340401172638 with lr 0.00042187500000000005<p>\n",
              "Epoch 3: Training loss 0.01137067936360836 validation loss 0.010653076693415642 with lr 0.00031640625000000006<p>\n",
              "Epoch 4: Training loss 0.009476217441260815 validation loss 0.007303428836166859 with lr 0.00023730468750000005<p>\n",
              "Epoch 5: Training loss 0.006732044275850058 validation loss 0.0035718968138098717 with lr 0.00017797851562500002<p>\n",
              "Epoch 6: Training loss 0.004858734086155891 validation loss 0.0044854553416371346 with lr 0.00013348388671875002<p>\n",
              "Epoch 7: Training loss 0.0022690370678901672 validation loss 0.00652580801397562 with lr 0.00010011291503906251<p>\n",
              "Epoch 8: Training loss 0.0021035755053162575 validation loss 0.0028872403781861067 with lr 7.508468627929689e-05<p>\n",
              "Epoch 9: Training loss 0.0014041196554899216 validation loss 0.003984685521572828 with lr 5.631351470947266e-05<p>\n",
              "Epoch 10: Training loss 0.0011761158239096403 validation loss 0.0023577429819852114 with lr 4.22351360321045e-05<p>\n",
              "Epoch 11: Training loss 0.0010010752594098449 validation loss 0.002937640994787216 with lr 3.167635202407837e-05<p>\n",
              "Epoch 12: Training loss 0.0005448948941193521 validation loss 0.003105206647887826 with lr 2.3757264018058778e-05<p>\n",
              "Epoch 13: Training loss 0.00047176273074001074 validation loss 0.003112400881946087 with lr 1.7817948013544083e-05<p>\n",
              "Epoch 14: Training loss 0.0005491243209689856 validation loss 0.003462746273726225 with lr 1.3363461010158061e-05<p>\n",
              "Epoch 15: Training loss 0.00039270357228815556 validation loss 0.0038302671164274216 with lr 1.0022595757618546e-05<p>\n",
              "Epoch 16: Training loss 0.0006364051951095462 validation loss 0.003043379168957472 with lr 7.51694681821391e-06<p>\n",
              "Epoch 17: Training loss 0.0003754514327738434 validation loss 0.003079048590734601 with lr 5.637710113660432e-06<p>\n",
              "Epoch 18: Training loss 0.0002347919944440946 validation loss 0.0032648039050400257 with lr 4.228282585245324e-06<p>\n",
              "Epoch 19: Training loss 0.0003149725671391934 validation loss 0.004019621759653091 with lr 3.171211938933993e-06"
            ]
          },
          "metadata": {
            "tags": []
          }
        },
        {
          "output_type": "display_data",
          "data": {
            "text/plain": [
              "<Figure size 432x288 with 1 Axes>"
            ],
            "image/png": "[encoded data removed]"
          },
          "metadata": {
            "tags": []
          }
        },
        {
          "output_type": "stream",
          "text": [
            "C:\\Users\\rajas\\Anaconda3\\lib\\site-packages\\numpy\\core\\_asarray.py:171: FutureWarning: The input object of type 'Tensor' is an array-like implementing one of the corresponding protocols (`__array__`, `__array_interface__` or `__array_struct__`); but not a sequence (or 0-D). In the future, this object will be coerced as if it was first converted using `np.array(obj)`. To retain the old behaviour, you have to either modify the type 'Tensor', or assign to an empty array created with `np.empty(correct_shape, dtype=object)`.\n",
            "  return array(a, dtype, copy=False, order=order, subok=True)\n"
          ],
          "name": "stderr"
        }
      ]
    },
    {
      "cell_type": "code",
      "metadata": {
        "colab": {
          "base_uri": "https://localhost:8080/"
        },
        "id": "boYQT2OXL6Gx",
        "outputId": "392cc6ef-57af-4acc-9a95-ec6256c33884"
      },
      "source": [
        "# check if CUDA is available\n",
        "train_on_gpu = torch.cuda.is_available()\n",
        "\n",
        "if not train_on_gpu:\n",
        "    print('CUDA is not available.  Training on CPU ...')\n",
        "else:\n",
        "    print('CUDA is available!  Training on GPU ...')"
      ],
      "execution_count": null,
      "outputs": [
        {
          "output_type": "stream",
          "text": [
            "CUDA is available!  Training on GPU ...\n"
          ],
          "name": "stdout"
        }
      ]
    },
    {
      "cell_type": "markdown",
      "metadata": {
        "id": "Em-mqxN_X_Qf"
      },
      "source": [
        "## Save Model"
      ]
    },
    {
      "cell_type": "code",
      "metadata": {
        "id": "pXZCJnAoYBEj"
      },
      "source": [
        "torch.save(model.state_dict(), 'model_hey_fourth_brain.pt')"
      ],
      "execution_count": null,
      "outputs": []
    },
    {
      "cell_type": "markdown",
      "metadata": {
        "id": "Nc4meWZSA711"
      },
      "source": [
        "# Evaluate on Test set"
      ]
    },
    {
      "cell_type": "code",
      "metadata": {
        "colab": {
          "base_uri": "https://localhost:8080/",
          "height": 872
        },
        "id": "e07iZ8DjaVub",
        "outputId": "1a969672-0ef5-4955-a5b0-b4bd09fcf5f6"
      },
      "source": [
        "from sklearn.metrics import confusion_matrix, classification_report, ConfusionMatrixDisplay\n",
        "\n",
        "# track test loss\n",
        "test_loss = 0.0\n",
        "classes = wake_words[:]\n",
        "# oov\n",
        "classes.append(\"oov\")\n",
        "class_correct = list(0. for i in range(len(classes)))\n",
        "class_total = list(0. for i in range(len(classes)))\n",
        "\n",
        "actual = []\n",
        "predictions = []\n",
        "\n",
        "model.eval()\n",
        "# iterate over test data\n",
        "pbar = tqdm(test_dl, total=len(test_dl), position=0, desc=\"Testing\", leave=True)\n",
        "for batch in pbar:\n",
        "    # move tensors to GPU if CUDA is available\n",
        "    audio_data = batch['audio'].to(device)\n",
        "    labels = batch['labels'].to(device)\n",
        "    # forward pass: compute predicted outputs by passing inputs to the model\n",
        "    mel_audio_data = audio_transform(audio_data)\n",
        "    # do zmuv transform\n",
        "    mel_audio_data = zmuv_transform(mel_audio_data)\n",
        "    output = model(mel_audio_data)\n",
        "    # calculate the batch loss\n",
        "    loss = criterion(output, labels)\n",
        "    # update test loss \n",
        "    test_loss += loss.item()*audio_data.size(0)\n",
        "    # convert output probabilities to predicted class\n",
        "    _, pred = torch.max(output, 1)    \n",
        "    # compare predictions to true label\n",
        "    correct_tensor = pred.eq(labels.data.view_as(pred))\n",
        "    correct = np.squeeze(correct_tensor.numpy()) if not train_on_gpu else np.squeeze(correct_tensor.cpu().numpy())\n",
        "    # calculate test accuracy for each object class\n",
        "    for i in range(labels.shape[0]):\n",
        "        label = labels.data[i]\n",
        "        class_correct[label.long()] += correct[i].item()\n",
        "        class_total[label.long()] += 1\n",
        "        # for confusion matrix    \n",
        "        actual.append(classes[labels.data[i].long().item()])\n",
        "        predictions.append(classes[pred.data[i].item()])\n",
        "        \n",
        "# plot confusion matrix\n",
        "cm = confusion_matrix(actual, predictions, labels=classes)\n",
        "print(classification_report(actual, predictions))\n",
        "cmp = ConfusionMatrixDisplay(cm, classes)\n",
        "fig, ax = plt.subplots(figsize=(8,8))\n",
        "cmp.plot(ax=ax, xticks_rotation='vertical')\n",
        "\n",
        "\n",
        "# average test loss\n",
        "test_loss = test_loss/len(test_ds)\n",
        "print('Test Loss: {:.6f}\\n'.format(test_loss))\n",
        "\n",
        "for i in range(len(classes)):\n",
        "    if class_total[i] > 0:\n",
        "        print('Test Accuracy of %5s: %2d%% (%2d/%2d)' % (\n",
        "            classes[i], 100 * class_correct[i] / class_total[i],\n",
        "            np.sum(class_correct[i]), np.sum(class_total[i])))\n",
        "    else:\n",
        "        print('Test Accuracy of %5s: N/A (no training examples)' % (classes[i]))\n",
        "\n",
        "print('\\nTest Accuracy (Overall): %2d%% (%2d/%2d)' % (\n",
        "    100. * np.sum(class_correct) / np.sum(class_total),\n",
        "    np.sum(class_correct), np.sum(class_total)))"
      ],
      "execution_count": null,
      "outputs": [
        {
          "output_type": "stream",
          "text": [
            "Testing: 100%|█████████████████████████████████████████████████████████████████████████████| 288/288 [01:15<00:00,  3.82it/s]\n",
            "C:\\Users\\rajas\\Anaconda3\\lib\\site-packages\\sklearn\\utils\\validation.py:72: FutureWarning: Pass display_labels=['hey', 'fourth', 'brain', 'oov'] as keyword args. From version 1.0 (renaming of 0.25) passing these as positional arguments will result in an error\n",
            "  \"will result in an error\", FutureWarning)\n"
          ],
          "name": "stderr"
        },
        {
          "output_type": "stream",
          "text": [
            "              precision    recall  f1-score   support\n",
            "\n",
            "       brain       1.00      1.00      1.00      1478\n",
            "      fourth       1.00      1.00      1.00      1485\n",
            "         hey       1.00      1.00      1.00      1483\n",
            "         oov       0.99      1.00      1.00       162\n",
            "\n",
            "    accuracy                           1.00      4608\n",
            "   macro avg       1.00      1.00      1.00      4608\n",
            "weighted avg       1.00      1.00      1.00      4608\n",
            "\n",
            "Test Loss: 0.010065\n",
            "\n",
            "Test Accuracy of   hey: 99% (1480/1483)\n",
            "Test Accuracy of fourth: 99% (1484/1485)\n",
            "Test Accuracy of brain: 100% (1478/1478)\n",
            "Test Accuracy of   oov: 100% (162/162)\n",
            "\n",
            "Test Accuracy (Overall): 99% (4604/4608)\n"
          ],
          "name": "stdout"
        },
        {
          "output_type": "display_data",
          "data": {
            "text/plain": [
              "<Figure size 576x576 with 2 Axes>"
            ],
            "image/png": "[encoded data removed]"
          },
          "metadata": {
            "tags": [],
            "needs_background": "light"
          }
        }
      ]
    },
    {
      "cell_type": "code",
      "metadata": {
        "colab": {
          "base_uri": "https://localhost:8080/"
        },
        "id": "qfSwaIXJpbLb",
        "outputId": "22168d61-7622-4385-c5cf-97adc19b11e1"
      },
      "source": [
        "%pwd"
      ],
      "execution_count": null,
      "outputs": [
        {
          "output_type": "execute_result",
          "data": {
            "text/plain": [
              "'D:\\\\GoogleDrive\\\\datasets\\\\hey-fourth-brain'"
            ]
          },
          "metadata": {
            "tags": []
          },
          "execution_count": 130
        }
      ]
    },
    {
      "cell_type": "code",
      "metadata": {
        "colab": {
          "base_uri": "https://localhost:8080/"
        },
        "id": "LdrlMuwgfFJB",
        "outputId": "8551c58c-307c-438c-f3b1-42c150404769"
      },
      "source": [
        "CHUNK = 500\n",
        "FORMAT = pyaudio.paInt16\n",
        "CHANNELS = 1\n",
        "RATE = sr\n",
        "RECORD_MILLI_SECONDS = 750\n",
        "WAVE_OUTPUT_FILENAME = \"output.wav\"\n",
        "\n",
        "p = pyaudio.PyAudio()\n",
        "\n",
        "stream = p.open(format=FORMAT,\n",
        "                channels=CHANNELS,\n",
        "                rate=RATE,\n",
        "                input=True,\n",
        "                frames_per_buffer=CHUNK)\n",
        "\n",
        "print(\"* recording\")\n",
        "\n",
        "frames = []\n",
        "\n",
        "for i in range(0, int(RATE / CHUNK * RECORD_MILLI_SECONDS/1000)):\n",
        "    data = stream.read(CHUNK)\n",
        "    frames.append(data)\n",
        "\n",
        "print(\"* done recording\")\n",
        "\n",
        "stream.stop_stream()\n",
        "stream.close()\n",
        "p.terminate()\n",
        "\n",
        "wf = wave.open(WAVE_OUTPUT_FILENAME, 'wb')\n",
        "wf.setnchannels(CHANNELS)\n",
        "wf.setsampwidth(p.get_sample_size(FORMAT))\n",
        "wf.setframerate(RATE)\n",
        "wf.writeframes(b''.join(frames))\n",
        "wf.close()"
      ],
      "execution_count": null,
      "outputs": [
        {
          "output_type": "stream",
          "text": [
            "* recording\n",
            "* done recording\n"
          ],
          "name": "stdout"
        }
      ]
    },
    {
      "cell_type": "code",
      "metadata": {
        "id": "Jt79CyqlNGWK"
      },
      "source": [
        "WAVE_OUTPUT_FILENAME='generated/brain/en-AU-Standard-A_1.0_2.0.wav'"
      ],
      "execution_count": null,
      "outputs": []
    },
    {
      "cell_type": "code",
      "metadata": {
        "id": "Hz-Cnv89pvMU"
      },
      "source": [
        "sounddata = librosa.core.load(WAVE_OUTPUT_FILENAME, sr=sr, mono=True)[0]"
      ],
      "execution_count": null,
      "outputs": []
    },
    {
      "cell_type": "code",
      "metadata": {
        "colab": {
          "base_uri": "https://localhost:8080/",
          "height": 75
        },
        "id": "VVG1COWrqC7p",
        "outputId": "b60b0729-a81d-45c2-f771-f1f30ee96d7a"
      },
      "source": [
        "Audio(sounddata, rate=sr)"
      ],
      "execution_count": null,
      "outputs": [
        {
          "output_type": "execute_result",
          "data": {
            "text/plain": [
              "<IPython.lib.display.Audio object>"
            ],
            "text/html": [
              "\n",
              "                <audio  controls=\"controls\" >\n",
              "                    <source src=\"data:audio/wav;base64,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\" type=\"audio/wav\" />\n",
              "                    Your browser does not support the audio element.\n",
              "                </audio>\n",
              "              "
            ]
          },
          "metadata": {
            "tags": []
          },
          "execution_count": 57
        }
      ]
    },
    {
      "cell_type": "code",
      "metadata": {
        "id": "7C-grsKDN2XE"
      },
      "source": [
        "  window_size_ms = 750\n",
        "  max_length = int(window_size_ms/1000 * sr)\n",
        "  audio_data_length = sounddata.size / sr * 1000 #m\n",
        "\n",
        "  # pad with zeros\n",
        "  if audio_data_length < window_size_ms:\n",
        "    # randomly either append or prepend\n",
        "    if random.random() < 0.5:\n",
        "      sounddata = np.append(sounddata, np.zeros(int(max_length - sounddata.size)))\n",
        "    else:\n",
        "      sounddata = np.append(np.zeros(int(max_length - sounddata.size)), sounddata)"
      ],
      "execution_count": null,
      "outputs": []
    },
    {
      "cell_type": "code",
      "metadata": {
        "id": "r2vKKiSOrZqb"
      },
      "source": [
        "# get duration \n",
        "# calculate length\n",
        "sounddata_length = sounddata.size / sr * 1000"
      ],
      "execution_count": null,
      "outputs": []
    },
    {
      "cell_type": "code",
      "metadata": {
        "colab": {
          "base_uri": "https://localhost:8080/"
        },
        "id": "rZsP7nxav4el",
        "outputId": "1e589159-d882-4fc4-9c0a-250b9d915a35"
      },
      "source": [
        "sounddata.size"
      ],
      "execution_count": null,
      "outputs": [
        {
          "output_type": "execute_result",
          "data": {
            "text/plain": [
              "12000"
            ]
          },
          "metadata": {
            "tags": []
          },
          "execution_count": 70
        }
      ]
    },
    {
      "cell_type": "code",
      "metadata": {
        "colab": {
          "base_uri": "https://localhost:8080/"
        },
        "id": "LIHCK534tL48",
        "outputId": "6ae30f4a-8951-4f4e-bb07-a3668b040cfa"
      },
      "source": [
        "sounddata_length"
      ],
      "execution_count": null,
      "outputs": [
        {
          "output_type": "execute_result",
          "data": {
            "text/plain": [
              "750.0"
            ]
          },
          "metadata": {
            "tags": []
          },
          "execution_count": 71
        }
      ]
    },
    {
      "cell_type": "code",
      "metadata": {
        "id": "HM3hDDm0t8Mw"
      },
      "source": [
        "inp = torch.from_numpy(sounddata).float().to(device)"
      ],
      "execution_count": null,
      "outputs": []
    },
    {
      "cell_type": "code",
      "metadata": {
        "colab": {
          "base_uri": "https://localhost:8080/"
        },
        "id": "2KRbB-biwxtr",
        "outputId": "e28a5089-d6b1-4639-e673-b8fecf765840"
      },
      "source": [
        "inp.size()"
      ],
      "execution_count": null,
      "outputs": [
        {
          "output_type": "execute_result",
          "data": {
            "text/plain": [
              "torch.Size([12000])"
            ]
          },
          "metadata": {
            "tags": []
          },
          "execution_count": 73
        }
      ]
    },
    {
      "cell_type": "code",
      "metadata": {
        "id": "y3KR-gMCw5df"
      },
      "source": [
        "delta_ms = int(inp.size(-1) / sr * 1000)"
      ],
      "execution_count": null,
      "outputs": []
    },
    {
      "cell_type": "code",
      "metadata": {
        "colab": {
          "base_uri": "https://localhost:8080/"
        },
        "id": "onr1EFYmw-gN",
        "outputId": "c2a56f4e-1c14-45d5-e9fc-68fe56614688"
      },
      "source": [
        "delta_ms"
      ],
      "execution_count": null,
      "outputs": [
        {
          "output_type": "execute_result",
          "data": {
            "text/plain": [
              "750"
            ]
          },
          "metadata": {
            "tags": []
          },
          "execution_count": 75
        }
      ]
    },
    {
      "cell_type": "code",
      "metadata": {
        "id": "pDQaBzNIqGRM"
      },
      "source": [
        "mel_audio_data = audio_transform(inp.unsqueeze(0))"
      ],
      "execution_count": null,
      "outputs": []
    },
    {
      "cell_type": "code",
      "metadata": {
        "colab": {
          "base_uri": "https://localhost:8080/"
        },
        "id": "RbPNVAAgqy06",
        "outputId": "5a6797f9-ea3f-4292-fb6e-30360ed84f9c"
      },
      "source": [
        "mel_audio_data.size()"
      ],
      "execution_count": null,
      "outputs": [
        {
          "output_type": "execute_result",
          "data": {
            "text/plain": [
              "torch.Size([1, 3, 40, 61])"
            ]
          },
          "metadata": {
            "tags": []
          },
          "execution_count": 77
        }
      ]
    },
    {
      "cell_type": "code",
      "metadata": {
        "id": "uW-sCcPkrJ_G"
      },
      "source": [
        "model.eval()\n",
        "scores = model(mel_audio_data)"
      ],
      "execution_count": null,
      "outputs": []
    },
    {
      "cell_type": "code",
      "metadata": {
        "colab": {
          "base_uri": "https://localhost:8080/"
        },
        "id": "e0ydP7jTgfrk",
        "outputId": "2b267448-039b-4d2a-940c-c8408ad82ba5"
      },
      "source": [
        "scores"
      ],
      "execution_count": null,
      "outputs": [
        {
          "output_type": "execute_result",
          "data": {
            "text/plain": [
              "tensor([[ -9.2291,   3.4615, -19.2211,   3.8502]], device='cuda:0',\n",
              "       grad_fn=<AddmmBackward>)"
            ]
          },
          "metadata": {
            "tags": []
          },
          "execution_count": 79
        }
      ]
    },
    {
      "cell_type": "code",
      "metadata": {
        "id": "WGaGKoN6g5_4"
      },
      "source": [
        "scores = F.softmax(scores, -1).squeeze(1)  # [num_frames x num_labels]"
      ],
      "execution_count": null,
      "outputs": []
    },
    {
      "cell_type": "code",
      "metadata": {
        "colab": {
          "base_uri": "https://localhost:8080/"
        },
        "id": "R1rId8ErO18m",
        "outputId": "0a3ae32c-0b94-49ca-f15a-391c7d32614a"
      },
      "source": [
        "scores[0]"
      ],
      "execution_count": null,
      "outputs": [
        {
          "output_type": "execute_result",
          "data": {
            "text/plain": [
              "tensor([1.2443e-06, 4.0403e-01, 5.6949e-11, 5.9597e-01], device='cuda:0',\n",
              "       grad_fn=<SelectBackward>)"
            ]
          },
          "metadata": {
            "tags": []
          },
          "execution_count": 83
        }
      ]
    },
    {
      "cell_type": "code",
      "metadata": {
        "colab": {
          "base_uri": "https://localhost:8080/"
        },
        "id": "e4U1Aqf_Punz",
        "outputId": "cda677c0-3326-4054-e3b6-2ff1ff8c9db9"
      },
      "source": [
        "preds = scores[0].cpu().detach().numpy()\n",
        "preds = preds / preds.sum()"
      ],
      "execution_count": null,
      "outputs": [
        {
          "output_type": "execute_result",
          "data": {
            "text/plain": [
              "array([1.2442987e-06, 4.0402707e-01, 5.6948911e-11, 5.9597164e-01],\n",
              "      dtype=float32)"
            ]
          },
          "metadata": {
            "tags": []
          },
          "execution_count": 85
        }
      ]
    },
    {
      "cell_type": "code",
      "metadata": {
        "colab": {
          "base_uri": "https://localhost:8080/"
        },
        "id": "bhr4G-pBg7K3",
        "outputId": "f4a7ac29-913e-4e8b-e0c4-d3a1e39660fa"
      },
      "source": [
        "print([f\"{x:.3f}\" for x in preds.tolist()])\n",
        "print(f\"predicted label {np.argmax(preds)} - {classes[np.argmax(preds)]}\")"
      ],
      "execution_count": null,
      "outputs": [
        {
          "output_type": "stream",
          "text": [
            "['0.000', '0.404', '0.000', '0.596']\n",
            "predicted label 3 - oov\n"
          ],
          "name": "stdout"
        }
      ]
    },
    {
      "cell_type": "code",
      "metadata": {
        "id": "SG3xPG1DiaKc"
      },
      "source": [
        "from pocketsphinx import AudioFile\n",
        "\n",
        "config = {\n",
        "    'verbose': False,\n",
        "    'audio_file': WAVE_OUTPUT_FILENAME,\n",
        "    'keyphrase': \"<sil>\",\n",
        "    'kws_threshold': 1e-20,\n",
        "    'lm': False\n",
        "}\n",
        "\n",
        "audio = AudioFile(**config)\n",
        "for phrase in audio:\n",
        "    print(phrase.segments(detailed=True))\n",
        "    result = phrase.segments(detailed=True)\n",
        "    if len(result) == 1:\n",
        "      start_time = result[0][2] * 10\n",
        "      end_time = result[0][3] * 10\n",
        "      print('%4sms ~ %4sms' % (start_time, end_time))"
      ],
      "execution_count": null,
      "outputs": []
    },
    {
      "cell_type": "markdown",
      "metadata": {
        "id": "5f9_n9ksBBqI"
      },
      "source": [
        "# Stream Inference"
      ]
    },
    {
      "cell_type": "code",
      "metadata": {
        "colab": {
          "base_uri": "https://localhost:8080/"
        },
        "id": "94Kq46f0kUf3",
        "outputId": "d1a81c7a-19e5-49ea-ceaf-4d5d01baa60f"
      },
      "source": [
        "model.load_state_dict(torch.load('model_hey_fourth_brain.pt'))"
      ],
      "execution_count": null,
      "outputs": [
        {
          "output_type": "execute_result",
          "data": {
            "text/plain": [
              "<All keys matched successfully>"
            ]
          },
          "metadata": {
            "tags": []
          },
          "execution_count": 27
        }
      ]
    },
    {
      "cell_type": "code",
      "metadata": {
        "id": "8Ak329ZapXQH"
      },
      "source": [
        "WAVE_OUTPUT_FILENAME = \"output.wav\"\n",
        "def sav_temp_wav(frames):\n",
        "  wf = wave.open(WAVE_OUTPUT_FILENAME, 'wb')\n",
        "  wf.setnchannels(CHANNELS)\n",
        "  wf.setsampwidth(p.get_sample_size(FORMAT))\n",
        "  wf.setframerate(RATE)\n",
        "  wf.writeframes(b''.join(frames))\n",
        "  wf.close()"
      ],
      "execution_count": null,
      "outputs": []
    },
    {
      "cell_type": "code",
      "metadata": {
        "id": "KstF4opY2LV8"
      },
      "source": [
        "import itertools\n",
        "import time\n",
        "\n",
        "audio_buf = []\n",
        "audio_buf_len = 16\n",
        "audio_float_size = 32767\n",
        "\n",
        "RATE = sr\n",
        "CHUNK = 500\n",
        "FORMAT = pyaudio.paInt16\n",
        "CHANNELS = 1\n",
        "\n",
        "curr_time = time.time\n",
        "pred_history = []\n",
        "label_history = []\n",
        "\n",
        "smoothing_window_ms = 50.0\n",
        "inference_window_ms = 2000.0\n",
        "tolerance_window_ms = 500.0\n",
        "\n",
        "def on_audio(in_data, frame_count, time_info, status):\n",
        "  data = (in_data, pyaudio.paContinue)\n",
        "  try:\n",
        "    audio_buf.append(in_data)\n",
        "    if len(audio_buf) != audio_buf_len:\n",
        "      return data\n",
        "    \n",
        "    audio_data = np.frombuffer(b''.join(audio_buf), dtype=np.int16).astype(np.float) / audio_float_size\n",
        "    audio_data = torch.from_numpy(audio_data).float().to(device)\n",
        "    delta_ms = int(audio_data.size(-1) / RATE * 1000)\n",
        "  \n",
        "    mel_audio_data = audio_transform(audio_data.unsqueeze(0))\n",
        "    mel_audio_data = zmuv_transform(mel_audio_data)\n",
        "    print(mel_audio_data.shape)\n",
        "  \n",
        "    scores = model(mel_audio_data)\n",
        "    scores = F.softmax(scores, -1).squeeze(1)  # [num_frames x num_labels]\n",
        "  \n",
        "    sequence_present = False\n",
        "    delta_ms /= len(scores)\n",
        "  \n",
        "    for frame in scores:\n",
        "      p = frame.cpu().numpy()\n",
        "      p = p / p.sum()\n",
        "      print([f\"{x:.3f}\" for x in p.tolist()], np.argmax(p))\n",
        "  \n",
        "      curr_time += delta_ms\n",
        "      pred_history.append((curr_time, p))\n",
        "  \n",
        "      pred_history = list(itertools.dropwhile(lambda x: curr_time - x[0] > smoothing_window_ms, pred_history))\n",
        "      lattice = np.vstack([t for _, t in pred_history])\n",
        "      lattice_max = np.max(lattice, 0)\n",
        "      max_label = lattice_max.argmax()\n",
        "      max_prob = lattice_max[max_label]\n",
        "      label_history.append((curr_time, p))\n",
        "  \n",
        "      label_history = list(itertools.dropwhile(lambda x: curr_time - x[0] > inference_window_ms, label_history))\n",
        "  \n",
        "      curr_label = None\n",
        "      target_state = 0\n",
        "      last_valid_timestamp = 0\n",
        "  \n",
        "      for history in label_history:\n",
        "        curr_timestamp, label = history\n",
        "        target_label = wake_words[target_state]\n",
        "        if label == target_label:\n",
        "          target_state += 1\n",
        "          if target_state == len(wake_words):\n",
        "            sequence_present = True\n",
        "            break\n",
        "          curr_label = wake_words[target_state - 1]\n",
        "          last_valid_timestamp = curr_timestamp\n",
        "        elif label == curr_label:\n",
        "          last_valid_timestamp = curr_timestamp\n",
        "        elif last_valid_timestamp + tolerance_window_ms < curr_timestamp:\n",
        "          # out of tolerance window, start from first \n",
        "          curr_label = None\n",
        "          target_state = 0\n",
        "          last_valid_timestamp = 0\n",
        "      \n",
        "      if sequence_present:\n",
        "        print(\"SEQUENCE DETECTED\")\n",
        "        break\n",
        "  except Exception as e:\n",
        "    print(e)\n",
        "  return data"
      ],
      "execution_count": null,
      "outputs": []
    },
    {
      "cell_type": "code",
      "metadata": {
        "id": "TM-QDNv6lmt1"
      },
      "source": [
        "model.eval()\n",
        "audio_float_size = 32767\n",
        "p = pyaudio.PyAudio()\n",
        "    \n",
        "stream = p.open(format=FORMAT,\n",
        "                channels=CHANNELS,\n",
        "                rate=RATE,\n",
        "                input=True,\n",
        "                frames_per_buffer=CHUNK,\n",
        "                stream_callback=on_audio)\n",
        "\n",
        "stream.start_stream()\n",
        "while stream.is_active():\n",
        "    time.sleep(0.1)"
      ],
      "execution_count": null,
      "outputs": []
    },
    {
      "cell_type": "code",
      "metadata": {
        "id": "G4s_-4bN4Evr"
      },
      "source": [
        "stream.stop_stream()\n",
        "stream.close()\n",
        "p.terminate()"
      ],
      "execution_count": null,
      "outputs": []
    },
    {
      "cell_type": "code",
      "metadata": {
        "colab": {
          "base_uri": "https://localhost:8080/",
          "height": 489
        },
        "id": "ruFktOZqkhPL",
        "outputId": "682bbb26-00b8-4af3-f40c-bfa6e8d2b43c"
      },
      "source": [
        "model.eval()\n",
        "\n",
        "classes = wake_words[:]\n",
        "# oov\n",
        "classes.append(\"oov\")\n",
        "\n",
        "audio_float_size = 32767\n",
        "p = pyaudio.PyAudio()\n",
        "\n",
        "CHUNK = 500\n",
        "FORMAT = pyaudio.paInt16\n",
        "CHANNELS = 1\n",
        "RATE = sr\n",
        "RECORD_MILLI_SECONDS = 750\n",
        "\n",
        "stream = p.open(format=FORMAT,\n",
        "                channels=CHANNELS,\n",
        "                rate=RATE,\n",
        "                input=True,\n",
        "                frames_per_buffer=CHUNK)\n",
        "\n",
        "print(\"* listening .. \")\n",
        "\n",
        "inference_track = []\n",
        "target_state = 0\n",
        "\n",
        "while True:\n",
        "  no_of_frames = 4\n",
        "  \n",
        "  #import pdb;pdb.set_trace()\n",
        "  batch = []\n",
        "  for frame in range(no_of_frames):\n",
        "    frames = []\n",
        "    for i in range(0, int(RATE / CHUNK * RECORD_MILLI_SECONDS/1000)):\n",
        "        data = stream.read(CHUNK)\n",
        "        frames.append(data)\n",
        "    audio_data = np.frombuffer( b''.join(frames), dtype=np.int16).astype(np.float) / audio_float_size\n",
        "    inp = torch.from_numpy(audio_data).float().to(device)\n",
        "    batch.append(inp)\n",
        "\n",
        "  audio_tensors = torch.stack(batch)\n",
        "\n",
        "  #sav_temp_wav(frames)\n",
        "  mel_audio_data = audio_transform(audio_tensors)\n",
        "  mel_audio_data = zmuv_transform(mel_audio_data)\n",
        "  scores = model(mel_audio_data)\n",
        "  scores = F.softmax(scores, -1).squeeze(1)  # [no_of_frames x num_labels]\n",
        "  #import pdb;pdb.set_trace()\n",
        "  for score in scores:\n",
        "    preds = score.cpu().detach().numpy()\n",
        "    preds = preds / preds.sum()\n",
        "    # print([f\"{x:.3f}\" for x in preds.tolist()])\n",
        "    pred_idx = np.argmax(preds)\n",
        "    pred_word = classes[pred_idx]\n",
        "    #print(f\"predicted label {pred_idx} - {pred_word}\")\n",
        "    label = wake_words[target_state]\n",
        "    if pred_word == label:\n",
        "      target_state += 1 # go to next label\n",
        "      inference_track.append(pred_word)\n",
        "      print(inference_track)\n",
        "      if inference_track == wake_words:\n",
        "        print(f\"Wake word {' '.join(inference_track)} detected\")\n",
        "        target_state = 0\n",
        "        inference_track = []\n",
        "        break"
      ],
      "execution_count": null,
      "outputs": [
        {
          "output_type": "stream",
          "text": [
            "* listening .. \n"
          ],
          "name": "stdout"
        },
        {
          "output_type": "stream",
          "text": [
            "C:\\Users\\rajas\\Anaconda3\\lib\\site-packages\\ipykernel_launcher.py:37: DeprecationWarning: `np.float` is a deprecated alias for the builtin `float`. To silence this warning, use `float` by itself. Doing this will not modify any behavior and is safe. If you specifically wanted the numpy scalar type, use `np.float64` here.\n",
            "Deprecated in NumPy 1.20; for more details and guidance: https://numpy.org/devdocs/release/1.20.0-notes.html#deprecations\n"
          ],
          "name": "stderr"
        },
        {
          "output_type": "stream",
          "text": [
            "['hey']\n",
            "['hey', 'fourth']\n",
            "['hey', 'fourth', 'brain']\n",
            "Wake word hey fourth brain detected\n"
          ],
          "name": "stdout"
        },
        {
          "output_type": "error",
          "ename": "KeyboardInterrupt",
          "evalue": "ignored",
          "traceback": [
            "\u001b[1;31m---------------------------------------------------------------------------\u001b[0m",
            "\u001b[1;31mKeyboardInterrupt\u001b[0m                         Traceback (most recent call last)",
            "\u001b[1;32m<ipython-input-87-2ef28ef7392a>\u001b[0m in \u001b[0;36m<module>\u001b[1;34m\u001b[0m\n\u001b[0;32m     33\u001b[0m     \u001b[0mframes\u001b[0m \u001b[1;33m=\u001b[0m \u001b[1;33m[\u001b[0m\u001b[1;33m]\u001b[0m\u001b[1;33m\u001b[0m\u001b[1;33m\u001b[0m\u001b[0m\n\u001b[0;32m     34\u001b[0m     \u001b[1;32mfor\u001b[0m \u001b[0mi\u001b[0m \u001b[1;32min\u001b[0m \u001b[0mrange\u001b[0m\u001b[1;33m(\u001b[0m\u001b[1;36m0\u001b[0m\u001b[1;33m,\u001b[0m \u001b[0mint\u001b[0m\u001b[1;33m(\u001b[0m\u001b[0mRATE\u001b[0m \u001b[1;33m/\u001b[0m \u001b[0mCHUNK\u001b[0m \u001b[1;33m*\u001b[0m \u001b[0mRECORD_MILLI_SECONDS\u001b[0m\u001b[1;33m/\u001b[0m\u001b[1;36m1000\u001b[0m\u001b[1;33m)\u001b[0m\u001b[1;33m)\u001b[0m\u001b[1;33m:\u001b[0m\u001b[1;33m\u001b[0m\u001b[1;33m\u001b[0m\u001b[0m\n\u001b[1;32m---> 35\u001b[1;33m         \u001b[0mdata\u001b[0m \u001b[1;33m=\u001b[0m \u001b[0mstream\u001b[0m\u001b[1;33m.\u001b[0m\u001b[0mread\u001b[0m\u001b[1;33m(\u001b[0m\u001b[0mCHUNK\u001b[0m\u001b[1;33m)\u001b[0m\u001b[1;33m\u001b[0m\u001b[1;33m\u001b[0m\u001b[0m\n\u001b[0m\u001b[0;32m     36\u001b[0m         \u001b[0mframes\u001b[0m\u001b[1;33m.\u001b[0m\u001b[0mappend\u001b[0m\u001b[1;33m(\u001b[0m\u001b[0mdata\u001b[0m\u001b[1;33m)\u001b[0m\u001b[1;33m\u001b[0m\u001b[1;33m\u001b[0m\u001b[0m\n\u001b[0;32m     37\u001b[0m     \u001b[0maudio_data\u001b[0m \u001b[1;33m=\u001b[0m \u001b[0mnp\u001b[0m\u001b[1;33m.\u001b[0m\u001b[0mfrombuffer\u001b[0m\u001b[1;33m(\u001b[0m \u001b[1;34mb''\u001b[0m\u001b[1;33m.\u001b[0m\u001b[0mjoin\u001b[0m\u001b[1;33m(\u001b[0m\u001b[0mframes\u001b[0m\u001b[1;33m)\u001b[0m\u001b[1;33m,\u001b[0m \u001b[0mdtype\u001b[0m\u001b[1;33m=\u001b[0m\u001b[0mnp\u001b[0m\u001b[1;33m.\u001b[0m\u001b[0mint16\u001b[0m\u001b[1;33m)\u001b[0m\u001b[1;33m.\u001b[0m\u001b[0mastype\u001b[0m\u001b[1;33m(\u001b[0m\u001b[0mnp\u001b[0m\u001b[1;33m.\u001b[0m\u001b[0mfloat\u001b[0m\u001b[1;33m)\u001b[0m \u001b[1;33m/\u001b[0m \u001b[0maudio_float_size\u001b[0m\u001b[1;33m\u001b[0m\u001b[1;33m\u001b[0m\u001b[0m\n",
            "\u001b[1;32m~\\Anaconda3\\lib\\site-packages\\pyaudio.py\u001b[0m in \u001b[0;36mread\u001b[1;34m(self, num_frames, exception_on_overflow)\u001b[0m\n\u001b[0;32m    606\u001b[0m                           paCanNotReadFromAnOutputOnlyStream)\n\u001b[0;32m    607\u001b[0m \u001b[1;33m\u001b[0m\u001b[0m\n\u001b[1;32m--> 608\u001b[1;33m         \u001b[1;32mreturn\u001b[0m \u001b[0mpa\u001b[0m\u001b[1;33m.\u001b[0m\u001b[0mread_stream\u001b[0m\u001b[1;33m(\u001b[0m\u001b[0mself\u001b[0m\u001b[1;33m.\u001b[0m\u001b[0m_stream\u001b[0m\u001b[1;33m,\u001b[0m \u001b[0mnum_frames\u001b[0m\u001b[1;33m,\u001b[0m \u001b[0mexception_on_overflow\u001b[0m\u001b[1;33m)\u001b[0m\u001b[1;33m\u001b[0m\u001b[1;33m\u001b[0m\u001b[0m\n\u001b[0m\u001b[0;32m    609\u001b[0m \u001b[1;33m\u001b[0m\u001b[0m\n\u001b[0;32m    610\u001b[0m     \u001b[1;32mdef\u001b[0m \u001b[0mget_read_available\u001b[0m\u001b[1;33m(\u001b[0m\u001b[0mself\u001b[0m\u001b[1;33m)\u001b[0m\u001b[1;33m:\u001b[0m\u001b[1;33m\u001b[0m\u001b[1;33m\u001b[0m\u001b[0m\n",
            "\u001b[1;31mKeyboardInterrupt\u001b[0m: "
          ]
        }
      ]
    },
    {
      "cell_type": "code",
      "metadata": {
        "id": "h2EB0dIriWrl"
      },
      "source": [
        ""
      ],
      "execution_count": null,
      "outputs": []
    }
  ]
}